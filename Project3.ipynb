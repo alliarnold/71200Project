{
  "nbformat": 4,
  "nbformat_minor": 0,
  "metadata": {
    "colab": {
      "provenance": [],
      "gpuType": "A100",
      "authorship_tag": "ABX9TyOxMD5LLt4swTu9kgslFl92",
      "include_colab_link": true
    },
    "kernelspec": {
      "name": "python3",
      "display_name": "Python 3"
    },
    "language_info": {
      "name": "python"
    },
    "accelerator": "GPU"
  },
  "cells": [
    {
      "cell_type": "markdown",
      "metadata": {
        "id": "view-in-github",
        "colab_type": "text"
      },
      "source": [
        "<a href=\"https://colab.research.google.com/github/alliarnold/71200Project/blob/main/Project3.ipynb\" target=\"_parent\"><img src=\"https://colab.research.google.com/assets/colab-badge.svg\" alt=\"Open In Colab\"/></a>"
      ]
    },
    {
      "cell_type": "markdown",
      "source": [
        "#Project 3"
      ],
      "metadata": {
        "id": "jfDo_EbopqvD"
      }
    },
    {
      "cell_type": "markdown",
      "source": [
        "## Step 0:\n",
        "\n",
        "### **Load libraries and Github**\n",
        "\n",
        "Loading main libraries and connect to GitHub from Google Colab."
      ],
      "metadata": {
        "id": "wfWFvXEyps-L"
      }
    },
    {
      "cell_type": "code",
      "execution_count": null,
      "metadata": {
        "id": "93XfS-_soKML"
      },
      "outputs": [],
      "source": [
        "import numpy as np\n",
        "import pandas as pd\n",
        "from pandas.plotting import scatter_matrix\n",
        "import matplotlib.pyplot as plt"
      ]
    },
    {
      "cell_type": "code",
      "source": [
        "!pip install -U scikit-learn==1.4\n",
        "!pip install mglearn\n",
        "import mglearn"
      ],
      "metadata": {
        "id": "YkZ2I7G_oRoJ",
        "colab": {
          "base_uri": "https://localhost:8080/"
        },
        "outputId": "59143075-0721-42e4-d5a7-e60891fe691e"
      },
      "execution_count": null,
      "outputs": [
        {
          "output_type": "stream",
          "name": "stdout",
          "text": [
            "Requirement already satisfied: scikit-learn==1.4 in /usr/local/lib/python3.10/dist-packages (1.4.0)\n",
            "Requirement already satisfied: numpy<2.0,>=1.19.5 in /usr/local/lib/python3.10/dist-packages (from scikit-learn==1.4) (1.25.2)\n",
            "Requirement already satisfied: scipy>=1.6.0 in /usr/local/lib/python3.10/dist-packages (from scikit-learn==1.4) (1.11.4)\n",
            "Requirement already satisfied: joblib>=1.2.0 in /usr/local/lib/python3.10/dist-packages (from scikit-learn==1.4) (1.4.2)\n",
            "Requirement already satisfied: threadpoolctl>=2.0.0 in /usr/local/lib/python3.10/dist-packages (from scikit-learn==1.4) (3.5.0)\n",
            "Requirement already satisfied: mglearn in /usr/local/lib/python3.10/dist-packages (0.2.0)\n",
            "Requirement already satisfied: numpy in /usr/local/lib/python3.10/dist-packages (from mglearn) (1.25.2)\n",
            "Requirement already satisfied: matplotlib in /usr/local/lib/python3.10/dist-packages (from mglearn) (3.7.1)\n",
            "Requirement already satisfied: scikit-learn in /usr/local/lib/python3.10/dist-packages (from mglearn) (1.4.0)\n",
            "Requirement already satisfied: pandas in /usr/local/lib/python3.10/dist-packages (from mglearn) (2.0.3)\n",
            "Requirement already satisfied: pillow in /usr/local/lib/python3.10/dist-packages (from mglearn) (9.4.0)\n",
            "Requirement already satisfied: cycler in /usr/local/lib/python3.10/dist-packages (from mglearn) (0.12.1)\n",
            "Requirement already satisfied: imageio in /usr/local/lib/python3.10/dist-packages (from mglearn) (2.31.6)\n",
            "Requirement already satisfied: joblib in /usr/local/lib/python3.10/dist-packages (from mglearn) (1.4.2)\n",
            "Requirement already satisfied: contourpy>=1.0.1 in /usr/local/lib/python3.10/dist-packages (from matplotlib->mglearn) (1.2.1)\n",
            "Requirement already satisfied: fonttools>=4.22.0 in /usr/local/lib/python3.10/dist-packages (from matplotlib->mglearn) (4.53.1)\n",
            "Requirement already satisfied: kiwisolver>=1.0.1 in /usr/local/lib/python3.10/dist-packages (from matplotlib->mglearn) (1.4.5)\n",
            "Requirement already satisfied: packaging>=20.0 in /usr/local/lib/python3.10/dist-packages (from matplotlib->mglearn) (24.1)\n",
            "Requirement already satisfied: pyparsing>=2.3.1 in /usr/local/lib/python3.10/dist-packages (from matplotlib->mglearn) (3.1.2)\n",
            "Requirement already satisfied: python-dateutil>=2.7 in /usr/local/lib/python3.10/dist-packages (from matplotlib->mglearn) (2.8.2)\n",
            "Requirement already satisfied: pytz>=2020.1 in /usr/local/lib/python3.10/dist-packages (from pandas->mglearn) (2023.4)\n",
            "Requirement already satisfied: tzdata>=2022.1 in /usr/local/lib/python3.10/dist-packages (from pandas->mglearn) (2024.1)\n",
            "Requirement already satisfied: scipy>=1.6.0 in /usr/local/lib/python3.10/dist-packages (from scikit-learn->mglearn) (1.11.4)\n",
            "Requirement already satisfied: threadpoolctl>=2.0.0 in /usr/local/lib/python3.10/dist-packages (from scikit-learn->mglearn) (3.5.0)\n",
            "Requirement already satisfied: six>=1.5 in /usr/local/lib/python3.10/dist-packages (from python-dateutil>=2.7->matplotlib->mglearn) (1.16.0)\n"
          ]
        }
      ]
    },
    {
      "cell_type": "code",
      "source": [
        "! apt-get install git"
      ],
      "metadata": {
        "id": "cv2QUDA3oMpJ",
        "colab": {
          "base_uri": "https://localhost:8080/"
        },
        "outputId": "9a7facca-108d-4f8f-c041-75c3fc567ff8"
      },
      "execution_count": null,
      "outputs": [
        {
          "output_type": "stream",
          "name": "stdout",
          "text": [
            "Reading package lists... Done\n",
            "Building dependency tree... Done\n",
            "Reading state information... Done\n",
            "git is already the newest version (1:2.34.1-1ubuntu1.11).\n",
            "0 upgraded, 0 newly installed, 0 to remove and 45 not upgraded.\n"
          ]
        }
      ]
    },
    {
      "cell_type": "code",
      "source": [
        "!git clone https://github.com/alliarnold/71200Project"
      ],
      "metadata": {
        "id": "hee3CVkHoSkH",
        "colab": {
          "base_uri": "https://localhost:8080/"
        },
        "outputId": "d9ca3814-4820-4aa9-c209-42167aaf1cd4"
      },
      "execution_count": null,
      "outputs": [
        {
          "output_type": "stream",
          "name": "stdout",
          "text": [
            "fatal: destination path '71200Project' already exists and is not an empty directory.\n"
          ]
        }
      ]
    },
    {
      "cell_type": "markdown",
      "source": [
        "## Step 1:\n",
        "\n",
        "### **Load & Prepare Dataset**\n",
        "\n",
        "Same tasks as performed in project 1 & 2. First I billed the compplete dataframe from the three separate cvs files in the Github repo."
      ],
      "metadata": {
        "id": "mFZ3SB8F6sq8"
      }
    },
    {
      "cell_type": "code",
      "source": [
        "df1 = pd.read_csv('/content/71200Project/BK2-019-Temp-Monitor-pt1.csv', parse_dates=[1])"
      ],
      "metadata": {
        "id": "ruIBHDkuoWpf"
      },
      "execution_count": null,
      "outputs": []
    },
    {
      "cell_type": "code",
      "source": [
        "df2 = pd.read_csv('/content/71200Project/BK2-019-Temp-Monitor-pt2.csv', parse_dates=[1])"
      ],
      "metadata": {
        "id": "ptyPPi0roYw4"
      },
      "execution_count": null,
      "outputs": []
    },
    {
      "cell_type": "code",
      "source": [
        "df3 = pd.read_csv('/content/71200Project/Locals.csv')"
      ],
      "metadata": {
        "id": "w6BThXOroa4y"
      },
      "execution_count": null,
      "outputs": []
    },
    {
      "cell_type": "code",
      "source": [
        "df4 = pd.concat([df1, df2])"
      ],
      "metadata": {
        "id": "KT049z27odLM"
      },
      "execution_count": null,
      "outputs": []
    },
    {
      "cell_type": "code",
      "source": [
        "#bringing into neighborhood names and their associated median household incomes\n",
        "tempdf = df4.merge(df3, left_on='Latitude', right_on='Latitude')\n",
        "tempdf['Longitude'] = tempdf['Longitude_x']\n",
        "tempdf = tempdf.drop([\"Longitude_y\", 'Longitude_x'], axis=1)"
      ],
      "metadata": {
        "id": "BWmqQ_POohud"
      },
      "execution_count": null,
      "outputs": []
    },
    {
      "cell_type": "code",
      "source": [
        "#making sure all airtemps have values instead of NA's. Already confirmed this was normally distributed in prior project before deciding to use mean instead of median.\n",
        "tempdf['AirTemp_Mean'] = tempdf['AirTemp'].fillna(tempdf['AirTemp'].mean())"
      ],
      "metadata": {
        "id": "qUFR8pFBolPh"
      },
      "execution_count": null,
      "outputs": []
    },
    {
      "cell_type": "code",
      "source": [
        "#adding advisory column\n",
        "conditions = [\n",
        "    (tempdf['AirTemp_Mean'] < 80),\n",
        "    (tempdf['AirTemp_Mean'] >= 80) & (tempdf['AirTemp_Mean'] < 90),\n",
        "    (tempdf['AirTemp_Mean'] >= 90) & (tempdf['AirTemp_Mean'] < 103),\n",
        "    (tempdf['AirTemp_Mean'] >= 103) & (tempdf['AirTemp_Mean'] < 124),\n",
        "    (tempdf['AirTemp_Mean'] >= 124)\n",
        "    ]\n",
        "\n",
        "# create a list of the values we want to assign for each condition\n",
        "values = ['Normal', 'Caution', 'Extreme_Caution', 'Danger', 'Extreme_Danger']\n",
        "\n",
        "# create a new column and use np.select to assign values to it using our lists as arguments\n",
        "\n",
        "tempdf['Advisory'] = np.select(conditions, values)"
      ],
      "metadata": {
        "id": "XOA5ZaPyon0c"
      },
      "execution_count": null,
      "outputs": []
    },
    {
      "cell_type": "code",
      "source": [
        "#renaming old \"Day\" column to Date\n",
        "tempdf['Date'] = tempdf[\"Day\"]\n",
        "tempdf.drop([\"Day\"], axis=1)"
      ],
      "metadata": {
        "id": "ED2Kvpc_orPd",
        "colab": {
          "base_uri": "https://localhost:8080/",
          "height": 617
        },
        "outputId": "57648ca9-c09f-4148-ccb1-c14081c2a1f6"
      },
      "execution_count": null,
      "outputs": [
        {
          "output_type": "execute_result",
          "data": {
            "text/plain": [
              "          AirTemp  Hour   Latitude Install.Type neighborhood  \\\n",
              "0       73.942167     7  40.666205  Street Tree  Brownsville   \n",
              "1       76.666333     8  40.666205  Street Tree  Brownsville   \n",
              "2       78.691333     9  40.666205  Street Tree  Brownsville   \n",
              "3       81.472500    10  40.666205  Street Tree  Brownsville   \n",
              "4       83.571667    11  40.666205  Street Tree  Brownsville   \n",
              "...           ...   ...        ...          ...          ...   \n",
              "477571  63.861167    16  40.663847  Street Tree  Brownsville   \n",
              "477572  63.782667    17  40.663847  Street Tree  Brownsville   \n",
              "477573  62.318667    18  40.663847  Street Tree  Brownsville   \n",
              "477574  60.682333    19  40.663847  Street Tree  Brownsville   \n",
              "477575  60.260000    20  40.663847  Street Tree  Brownsville   \n",
              "\n",
              "        median_householdinc  Longitude  AirTemp_Mean Advisory       Date  \n",
              "0                     30733 -73.916910     73.942167   Normal 2019-08-09  \n",
              "1                     30733 -73.916910     76.666333   Normal 2019-08-09  \n",
              "2                     30733 -73.916910     78.691333   Normal 2019-08-09  \n",
              "3                     30733 -73.916910     81.472500  Caution 2019-08-09  \n",
              "4                     30733 -73.916910     83.571667  Caution 2019-08-09  \n",
              "...                     ...        ...           ...      ...        ...  \n",
              "477571                30733 -73.908308     63.861167   Normal 2019-10-15  \n",
              "477572                30733 -73.908308     63.782667   Normal 2019-10-15  \n",
              "477573                30733 -73.908308     62.318667   Normal 2019-10-15  \n",
              "477574                30733 -73.908308     60.682333   Normal 2019-10-15  \n",
              "477575                30733 -73.908308     60.260000   Normal 2019-10-15  \n",
              "\n",
              "[477576 rows x 10 columns]"
            ],
            "text/html": [
              "\n",
              "  <div id=\"df-cba219b7-5984-4580-9e0d-569dbcea0b94\" class=\"colab-df-container\">\n",
              "    <div>\n",
              "<style scoped>\n",
              "    .dataframe tbody tr th:only-of-type {\n",
              "        vertical-align: middle;\n",
              "    }\n",
              "\n",
              "    .dataframe tbody tr th {\n",
              "        vertical-align: top;\n",
              "    }\n",
              "\n",
              "    .dataframe thead th {\n",
              "        text-align: right;\n",
              "    }\n",
              "</style>\n",
              "<table border=\"1\" class=\"dataframe\">\n",
              "  <thead>\n",
              "    <tr style=\"text-align: right;\">\n",
              "      <th></th>\n",
              "      <th>AirTemp</th>\n",
              "      <th>Hour</th>\n",
              "      <th>Latitude</th>\n",
              "      <th>Install.Type</th>\n",
              "      <th>neighborhood</th>\n",
              "      <th>median_householdinc</th>\n",
              "      <th>Longitude</th>\n",
              "      <th>AirTemp_Mean</th>\n",
              "      <th>Advisory</th>\n",
              "      <th>Date</th>\n",
              "    </tr>\n",
              "  </thead>\n",
              "  <tbody>\n",
              "    <tr>\n",
              "      <th>0</th>\n",
              "      <td>73.942167</td>\n",
              "      <td>7</td>\n",
              "      <td>40.666205</td>\n",
              "      <td>Street Tree</td>\n",
              "      <td>Brownsville</td>\n",
              "      <td>30733</td>\n",
              "      <td>-73.916910</td>\n",
              "      <td>73.942167</td>\n",
              "      <td>Normal</td>\n",
              "      <td>2019-08-09</td>\n",
              "    </tr>\n",
              "    <tr>\n",
              "      <th>1</th>\n",
              "      <td>76.666333</td>\n",
              "      <td>8</td>\n",
              "      <td>40.666205</td>\n",
              "      <td>Street Tree</td>\n",
              "      <td>Brownsville</td>\n",
              "      <td>30733</td>\n",
              "      <td>-73.916910</td>\n",
              "      <td>76.666333</td>\n",
              "      <td>Normal</td>\n",
              "      <td>2019-08-09</td>\n",
              "    </tr>\n",
              "    <tr>\n",
              "      <th>2</th>\n",
              "      <td>78.691333</td>\n",
              "      <td>9</td>\n",
              "      <td>40.666205</td>\n",
              "      <td>Street Tree</td>\n",
              "      <td>Brownsville</td>\n",
              "      <td>30733</td>\n",
              "      <td>-73.916910</td>\n",
              "      <td>78.691333</td>\n",
              "      <td>Normal</td>\n",
              "      <td>2019-08-09</td>\n",
              "    </tr>\n",
              "    <tr>\n",
              "      <th>3</th>\n",
              "      <td>81.472500</td>\n",
              "      <td>10</td>\n",
              "      <td>40.666205</td>\n",
              "      <td>Street Tree</td>\n",
              "      <td>Brownsville</td>\n",
              "      <td>30733</td>\n",
              "      <td>-73.916910</td>\n",
              "      <td>81.472500</td>\n",
              "      <td>Caution</td>\n",
              "      <td>2019-08-09</td>\n",
              "    </tr>\n",
              "    <tr>\n",
              "      <th>4</th>\n",
              "      <td>83.571667</td>\n",
              "      <td>11</td>\n",
              "      <td>40.666205</td>\n",
              "      <td>Street Tree</td>\n",
              "      <td>Brownsville</td>\n",
              "      <td>30733</td>\n",
              "      <td>-73.916910</td>\n",
              "      <td>83.571667</td>\n",
              "      <td>Caution</td>\n",
              "      <td>2019-08-09</td>\n",
              "    </tr>\n",
              "    <tr>\n",
              "      <th>...</th>\n",
              "      <td>...</td>\n",
              "      <td>...</td>\n",
              "      <td>...</td>\n",
              "      <td>...</td>\n",
              "      <td>...</td>\n",
              "      <td>...</td>\n",
              "      <td>...</td>\n",
              "      <td>...</td>\n",
              "      <td>...</td>\n",
              "      <td>...</td>\n",
              "    </tr>\n",
              "    <tr>\n",
              "      <th>477571</th>\n",
              "      <td>63.861167</td>\n",
              "      <td>16</td>\n",
              "      <td>40.663847</td>\n",
              "      <td>Street Tree</td>\n",
              "      <td>Brownsville</td>\n",
              "      <td>30733</td>\n",
              "      <td>-73.908308</td>\n",
              "      <td>63.861167</td>\n",
              "      <td>Normal</td>\n",
              "      <td>2019-10-15</td>\n",
              "    </tr>\n",
              "    <tr>\n",
              "      <th>477572</th>\n",
              "      <td>63.782667</td>\n",
              "      <td>17</td>\n",
              "      <td>40.663847</td>\n",
              "      <td>Street Tree</td>\n",
              "      <td>Brownsville</td>\n",
              "      <td>30733</td>\n",
              "      <td>-73.908308</td>\n",
              "      <td>63.782667</td>\n",
              "      <td>Normal</td>\n",
              "      <td>2019-10-15</td>\n",
              "    </tr>\n",
              "    <tr>\n",
              "      <th>477573</th>\n",
              "      <td>62.318667</td>\n",
              "      <td>18</td>\n",
              "      <td>40.663847</td>\n",
              "      <td>Street Tree</td>\n",
              "      <td>Brownsville</td>\n",
              "      <td>30733</td>\n",
              "      <td>-73.908308</td>\n",
              "      <td>62.318667</td>\n",
              "      <td>Normal</td>\n",
              "      <td>2019-10-15</td>\n",
              "    </tr>\n",
              "    <tr>\n",
              "      <th>477574</th>\n",
              "      <td>60.682333</td>\n",
              "      <td>19</td>\n",
              "      <td>40.663847</td>\n",
              "      <td>Street Tree</td>\n",
              "      <td>Brownsville</td>\n",
              "      <td>30733</td>\n",
              "      <td>-73.908308</td>\n",
              "      <td>60.682333</td>\n",
              "      <td>Normal</td>\n",
              "      <td>2019-10-15</td>\n",
              "    </tr>\n",
              "    <tr>\n",
              "      <th>477575</th>\n",
              "      <td>60.260000</td>\n",
              "      <td>20</td>\n",
              "      <td>40.663847</td>\n",
              "      <td>Street Tree</td>\n",
              "      <td>Brownsville</td>\n",
              "      <td>30733</td>\n",
              "      <td>-73.908308</td>\n",
              "      <td>60.260000</td>\n",
              "      <td>Normal</td>\n",
              "      <td>2019-10-15</td>\n",
              "    </tr>\n",
              "  </tbody>\n",
              "</table>\n",
              "<p>477576 rows × 10 columns</p>\n",
              "</div>\n",
              "    <div class=\"colab-df-buttons\">\n",
              "\n",
              "  <div class=\"colab-df-container\">\n",
              "    <button class=\"colab-df-convert\" onclick=\"convertToInteractive('df-cba219b7-5984-4580-9e0d-569dbcea0b94')\"\n",
              "            title=\"Convert this dataframe to an interactive table.\"\n",
              "            style=\"display:none;\">\n",
              "\n",
              "  <svg xmlns=\"http://www.w3.org/2000/svg\" height=\"24px\" viewBox=\"0 -960 960 960\">\n",
              "    <path d=\"M120-120v-720h720v720H120Zm60-500h600v-160H180v160Zm220 220h160v-160H400v160Zm0 220h160v-160H400v160ZM180-400h160v-160H180v160Zm440 0h160v-160H620v160ZM180-180h160v-160H180v160Zm440 0h160v-160H620v160Z\"/>\n",
              "  </svg>\n",
              "    </button>\n",
              "\n",
              "  <style>\n",
              "    .colab-df-container {\n",
              "      display:flex;\n",
              "      gap: 12px;\n",
              "    }\n",
              "\n",
              "    .colab-df-convert {\n",
              "      background-color: #E8F0FE;\n",
              "      border: none;\n",
              "      border-radius: 50%;\n",
              "      cursor: pointer;\n",
              "      display: none;\n",
              "      fill: #1967D2;\n",
              "      height: 32px;\n",
              "      padding: 0 0 0 0;\n",
              "      width: 32px;\n",
              "    }\n",
              "\n",
              "    .colab-df-convert:hover {\n",
              "      background-color: #E2EBFA;\n",
              "      box-shadow: 0px 1px 2px rgba(60, 64, 67, 0.3), 0px 1px 3px 1px rgba(60, 64, 67, 0.15);\n",
              "      fill: #174EA6;\n",
              "    }\n",
              "\n",
              "    .colab-df-buttons div {\n",
              "      margin-bottom: 4px;\n",
              "    }\n",
              "\n",
              "    [theme=dark] .colab-df-convert {\n",
              "      background-color: #3B4455;\n",
              "      fill: #D2E3FC;\n",
              "    }\n",
              "\n",
              "    [theme=dark] .colab-df-convert:hover {\n",
              "      background-color: #434B5C;\n",
              "      box-shadow: 0px 1px 3px 1px rgba(0, 0, 0, 0.15);\n",
              "      filter: drop-shadow(0px 1px 2px rgba(0, 0, 0, 0.3));\n",
              "      fill: #FFFFFF;\n",
              "    }\n",
              "  </style>\n",
              "\n",
              "    <script>\n",
              "      const buttonEl =\n",
              "        document.querySelector('#df-cba219b7-5984-4580-9e0d-569dbcea0b94 button.colab-df-convert');\n",
              "      buttonEl.style.display =\n",
              "        google.colab.kernel.accessAllowed ? 'block' : 'none';\n",
              "\n",
              "      async function convertToInteractive(key) {\n",
              "        const element = document.querySelector('#df-cba219b7-5984-4580-9e0d-569dbcea0b94');\n",
              "        const dataTable =\n",
              "          await google.colab.kernel.invokeFunction('convertToInteractive',\n",
              "                                                    [key], {});\n",
              "        if (!dataTable) return;\n",
              "\n",
              "        const docLinkHtml = 'Like what you see? Visit the ' +\n",
              "          '<a target=\"_blank\" href=https://colab.research.google.com/notebooks/data_table.ipynb>data table notebook</a>'\n",
              "          + ' to learn more about interactive tables.';\n",
              "        element.innerHTML = '';\n",
              "        dataTable['output_type'] = 'display_data';\n",
              "        await google.colab.output.renderOutput(dataTable, element);\n",
              "        const docLink = document.createElement('div');\n",
              "        docLink.innerHTML = docLinkHtml;\n",
              "        element.appendChild(docLink);\n",
              "      }\n",
              "    </script>\n",
              "  </div>\n",
              "\n",
              "\n",
              "<div id=\"df-d5da7415-1fe0-4316-8b5f-b4a85109e9ad\">\n",
              "  <button class=\"colab-df-quickchart\" onclick=\"quickchart('df-d5da7415-1fe0-4316-8b5f-b4a85109e9ad')\"\n",
              "            title=\"Suggest charts\"\n",
              "            style=\"display:none;\">\n",
              "\n",
              "<svg xmlns=\"http://www.w3.org/2000/svg\" height=\"24px\"viewBox=\"0 0 24 24\"\n",
              "     width=\"24px\">\n",
              "    <g>\n",
              "        <path d=\"M19 3H5c-1.1 0-2 .9-2 2v14c0 1.1.9 2 2 2h14c1.1 0 2-.9 2-2V5c0-1.1-.9-2-2-2zM9 17H7v-7h2v7zm4 0h-2V7h2v10zm4 0h-2v-4h2v4z\"/>\n",
              "    </g>\n",
              "</svg>\n",
              "  </button>\n",
              "\n",
              "<style>\n",
              "  .colab-df-quickchart {\n",
              "      --bg-color: #E8F0FE;\n",
              "      --fill-color: #1967D2;\n",
              "      --hover-bg-color: #E2EBFA;\n",
              "      --hover-fill-color: #174EA6;\n",
              "      --disabled-fill-color: #AAA;\n",
              "      --disabled-bg-color: #DDD;\n",
              "  }\n",
              "\n",
              "  [theme=dark] .colab-df-quickchart {\n",
              "      --bg-color: #3B4455;\n",
              "      --fill-color: #D2E3FC;\n",
              "      --hover-bg-color: #434B5C;\n",
              "      --hover-fill-color: #FFFFFF;\n",
              "      --disabled-bg-color: #3B4455;\n",
              "      --disabled-fill-color: #666;\n",
              "  }\n",
              "\n",
              "  .colab-df-quickchart {\n",
              "    background-color: var(--bg-color);\n",
              "    border: none;\n",
              "    border-radius: 50%;\n",
              "    cursor: pointer;\n",
              "    display: none;\n",
              "    fill: var(--fill-color);\n",
              "    height: 32px;\n",
              "    padding: 0;\n",
              "    width: 32px;\n",
              "  }\n",
              "\n",
              "  .colab-df-quickchart:hover {\n",
              "    background-color: var(--hover-bg-color);\n",
              "    box-shadow: 0 1px 2px rgba(60, 64, 67, 0.3), 0 1px 3px 1px rgba(60, 64, 67, 0.15);\n",
              "    fill: var(--button-hover-fill-color);\n",
              "  }\n",
              "\n",
              "  .colab-df-quickchart-complete:disabled,\n",
              "  .colab-df-quickchart-complete:disabled:hover {\n",
              "    background-color: var(--disabled-bg-color);\n",
              "    fill: var(--disabled-fill-color);\n",
              "    box-shadow: none;\n",
              "  }\n",
              "\n",
              "  .colab-df-spinner {\n",
              "    border: 2px solid var(--fill-color);\n",
              "    border-color: transparent;\n",
              "    border-bottom-color: var(--fill-color);\n",
              "    animation:\n",
              "      spin 1s steps(1) infinite;\n",
              "  }\n",
              "\n",
              "  @keyframes spin {\n",
              "    0% {\n",
              "      border-color: transparent;\n",
              "      border-bottom-color: var(--fill-color);\n",
              "      border-left-color: var(--fill-color);\n",
              "    }\n",
              "    20% {\n",
              "      border-color: transparent;\n",
              "      border-left-color: var(--fill-color);\n",
              "      border-top-color: var(--fill-color);\n",
              "    }\n",
              "    30% {\n",
              "      border-color: transparent;\n",
              "      border-left-color: var(--fill-color);\n",
              "      border-top-color: var(--fill-color);\n",
              "      border-right-color: var(--fill-color);\n",
              "    }\n",
              "    40% {\n",
              "      border-color: transparent;\n",
              "      border-right-color: var(--fill-color);\n",
              "      border-top-color: var(--fill-color);\n",
              "    }\n",
              "    60% {\n",
              "      border-color: transparent;\n",
              "      border-right-color: var(--fill-color);\n",
              "    }\n",
              "    80% {\n",
              "      border-color: transparent;\n",
              "      border-right-color: var(--fill-color);\n",
              "      border-bottom-color: var(--fill-color);\n",
              "    }\n",
              "    90% {\n",
              "      border-color: transparent;\n",
              "      border-bottom-color: var(--fill-color);\n",
              "    }\n",
              "  }\n",
              "</style>\n",
              "\n",
              "  <script>\n",
              "    async function quickchart(key) {\n",
              "      const quickchartButtonEl =\n",
              "        document.querySelector('#' + key + ' button');\n",
              "      quickchartButtonEl.disabled = true;  // To prevent multiple clicks.\n",
              "      quickchartButtonEl.classList.add('colab-df-spinner');\n",
              "      try {\n",
              "        const charts = await google.colab.kernel.invokeFunction(\n",
              "            'suggestCharts', [key], {});\n",
              "      } catch (error) {\n",
              "        console.error('Error during call to suggestCharts:', error);\n",
              "      }\n",
              "      quickchartButtonEl.classList.remove('colab-df-spinner');\n",
              "      quickchartButtonEl.classList.add('colab-df-quickchart-complete');\n",
              "    }\n",
              "    (() => {\n",
              "      let quickchartButtonEl =\n",
              "        document.querySelector('#df-d5da7415-1fe0-4316-8b5f-b4a85109e9ad button');\n",
              "      quickchartButtonEl.style.display =\n",
              "        google.colab.kernel.accessAllowed ? 'block' : 'none';\n",
              "    })();\n",
              "  </script>\n",
              "</div>\n",
              "\n",
              "    </div>\n",
              "  </div>\n"
            ],
            "application/vnd.google.colaboratory.intrinsic+json": {
              "type": "dataframe"
            }
          },
          "metadata": {},
          "execution_count": 12
        }
      ]
    },
    {
      "cell_type": "code",
      "source": [
        "#pulling out month and day into their own columns\n",
        "tempdf['Month'] = tempdf['Date'].dt.month\n",
        "tempdf['Day'] = tempdf['Date'].dt.day"
      ],
      "metadata": {
        "id": "_zMBA-klor2b"
      },
      "execution_count": null,
      "outputs": []
    },
    {
      "cell_type": "code",
      "source": [
        "#reorder final list of columns, drop \"Date\" for datatype reasons discovered in prof 2\n",
        "tempdf2 = tempdf[[\"Month\", \"Day\", \"Hour\", \"AirTemp_Mean\", \"Advisory\", \"Latitude\", \"Longitude\", \"neighborhood\",\"median_householdinc\", \"Install.Type\" ]]\n",
        "tempdf2.head()"
      ],
      "metadata": {
        "id": "ZHsx_9E6oyYT",
        "colab": {
          "base_uri": "https://localhost:8080/",
          "height": 226
        },
        "outputId": "036292e1-0375-44b5-9a47-613cc28c8f03"
      },
      "execution_count": null,
      "outputs": [
        {
          "output_type": "execute_result",
          "data": {
            "text/plain": [
              "   Month  Day  Hour  AirTemp_Mean Advisory   Latitude  Longitude neighborhood  \\\n",
              "0      8    9     7     73.942167   Normal  40.666205  -73.91691  Brownsville   \n",
              "1      8    9     8     76.666333   Normal  40.666205  -73.91691  Brownsville   \n",
              "2      8    9     9     78.691333   Normal  40.666205  -73.91691  Brownsville   \n",
              "3      8    9    10     81.472500  Caution  40.666205  -73.91691  Brownsville   \n",
              "4      8    9    11     83.571667  Caution  40.666205  -73.91691  Brownsville   \n",
              "\n",
              "   median_householdinc Install.Type  \n",
              "0                30733  Street Tree  \n",
              "1                30733  Street Tree  \n",
              "2                30733  Street Tree  \n",
              "3                30733  Street Tree  \n",
              "4                30733  Street Tree  "
            ],
            "text/html": [
              "\n",
              "  <div id=\"df-28f1f444-24c2-48d3-a3df-b97dc72c6fb8\" class=\"colab-df-container\">\n",
              "    <div>\n",
              "<style scoped>\n",
              "    .dataframe tbody tr th:only-of-type {\n",
              "        vertical-align: middle;\n",
              "    }\n",
              "\n",
              "    .dataframe tbody tr th {\n",
              "        vertical-align: top;\n",
              "    }\n",
              "\n",
              "    .dataframe thead th {\n",
              "        text-align: right;\n",
              "    }\n",
              "</style>\n",
              "<table border=\"1\" class=\"dataframe\">\n",
              "  <thead>\n",
              "    <tr style=\"text-align: right;\">\n",
              "      <th></th>\n",
              "      <th>Month</th>\n",
              "      <th>Day</th>\n",
              "      <th>Hour</th>\n",
              "      <th>AirTemp_Mean</th>\n",
              "      <th>Advisory</th>\n",
              "      <th>Latitude</th>\n",
              "      <th>Longitude</th>\n",
              "      <th>neighborhood</th>\n",
              "      <th>median_householdinc</th>\n",
              "      <th>Install.Type</th>\n",
              "    </tr>\n",
              "  </thead>\n",
              "  <tbody>\n",
              "    <tr>\n",
              "      <th>0</th>\n",
              "      <td>8</td>\n",
              "      <td>9</td>\n",
              "      <td>7</td>\n",
              "      <td>73.942167</td>\n",
              "      <td>Normal</td>\n",
              "      <td>40.666205</td>\n",
              "      <td>-73.91691</td>\n",
              "      <td>Brownsville</td>\n",
              "      <td>30733</td>\n",
              "      <td>Street Tree</td>\n",
              "    </tr>\n",
              "    <tr>\n",
              "      <th>1</th>\n",
              "      <td>8</td>\n",
              "      <td>9</td>\n",
              "      <td>8</td>\n",
              "      <td>76.666333</td>\n",
              "      <td>Normal</td>\n",
              "      <td>40.666205</td>\n",
              "      <td>-73.91691</td>\n",
              "      <td>Brownsville</td>\n",
              "      <td>30733</td>\n",
              "      <td>Street Tree</td>\n",
              "    </tr>\n",
              "    <tr>\n",
              "      <th>2</th>\n",
              "      <td>8</td>\n",
              "      <td>9</td>\n",
              "      <td>9</td>\n",
              "      <td>78.691333</td>\n",
              "      <td>Normal</td>\n",
              "      <td>40.666205</td>\n",
              "      <td>-73.91691</td>\n",
              "      <td>Brownsville</td>\n",
              "      <td>30733</td>\n",
              "      <td>Street Tree</td>\n",
              "    </tr>\n",
              "    <tr>\n",
              "      <th>3</th>\n",
              "      <td>8</td>\n",
              "      <td>9</td>\n",
              "      <td>10</td>\n",
              "      <td>81.472500</td>\n",
              "      <td>Caution</td>\n",
              "      <td>40.666205</td>\n",
              "      <td>-73.91691</td>\n",
              "      <td>Brownsville</td>\n",
              "      <td>30733</td>\n",
              "      <td>Street Tree</td>\n",
              "    </tr>\n",
              "    <tr>\n",
              "      <th>4</th>\n",
              "      <td>8</td>\n",
              "      <td>9</td>\n",
              "      <td>11</td>\n",
              "      <td>83.571667</td>\n",
              "      <td>Caution</td>\n",
              "      <td>40.666205</td>\n",
              "      <td>-73.91691</td>\n",
              "      <td>Brownsville</td>\n",
              "      <td>30733</td>\n",
              "      <td>Street Tree</td>\n",
              "    </tr>\n",
              "  </tbody>\n",
              "</table>\n",
              "</div>\n",
              "    <div class=\"colab-df-buttons\">\n",
              "\n",
              "  <div class=\"colab-df-container\">\n",
              "    <button class=\"colab-df-convert\" onclick=\"convertToInteractive('df-28f1f444-24c2-48d3-a3df-b97dc72c6fb8')\"\n",
              "            title=\"Convert this dataframe to an interactive table.\"\n",
              "            style=\"display:none;\">\n",
              "\n",
              "  <svg xmlns=\"http://www.w3.org/2000/svg\" height=\"24px\" viewBox=\"0 -960 960 960\">\n",
              "    <path d=\"M120-120v-720h720v720H120Zm60-500h600v-160H180v160Zm220 220h160v-160H400v160Zm0 220h160v-160H400v160ZM180-400h160v-160H180v160Zm440 0h160v-160H620v160ZM180-180h160v-160H180v160Zm440 0h160v-160H620v160Z\"/>\n",
              "  </svg>\n",
              "    </button>\n",
              "\n",
              "  <style>\n",
              "    .colab-df-container {\n",
              "      display:flex;\n",
              "      gap: 12px;\n",
              "    }\n",
              "\n",
              "    .colab-df-convert {\n",
              "      background-color: #E8F0FE;\n",
              "      border: none;\n",
              "      border-radius: 50%;\n",
              "      cursor: pointer;\n",
              "      display: none;\n",
              "      fill: #1967D2;\n",
              "      height: 32px;\n",
              "      padding: 0 0 0 0;\n",
              "      width: 32px;\n",
              "    }\n",
              "\n",
              "    .colab-df-convert:hover {\n",
              "      background-color: #E2EBFA;\n",
              "      box-shadow: 0px 1px 2px rgba(60, 64, 67, 0.3), 0px 1px 3px 1px rgba(60, 64, 67, 0.15);\n",
              "      fill: #174EA6;\n",
              "    }\n",
              "\n",
              "    .colab-df-buttons div {\n",
              "      margin-bottom: 4px;\n",
              "    }\n",
              "\n",
              "    [theme=dark] .colab-df-convert {\n",
              "      background-color: #3B4455;\n",
              "      fill: #D2E3FC;\n",
              "    }\n",
              "\n",
              "    [theme=dark] .colab-df-convert:hover {\n",
              "      background-color: #434B5C;\n",
              "      box-shadow: 0px 1px 3px 1px rgba(0, 0, 0, 0.15);\n",
              "      filter: drop-shadow(0px 1px 2px rgba(0, 0, 0, 0.3));\n",
              "      fill: #FFFFFF;\n",
              "    }\n",
              "  </style>\n",
              "\n",
              "    <script>\n",
              "      const buttonEl =\n",
              "        document.querySelector('#df-28f1f444-24c2-48d3-a3df-b97dc72c6fb8 button.colab-df-convert');\n",
              "      buttonEl.style.display =\n",
              "        google.colab.kernel.accessAllowed ? 'block' : 'none';\n",
              "\n",
              "      async function convertToInteractive(key) {\n",
              "        const element = document.querySelector('#df-28f1f444-24c2-48d3-a3df-b97dc72c6fb8');\n",
              "        const dataTable =\n",
              "          await google.colab.kernel.invokeFunction('convertToInteractive',\n",
              "                                                    [key], {});\n",
              "        if (!dataTable) return;\n",
              "\n",
              "        const docLinkHtml = 'Like what you see? Visit the ' +\n",
              "          '<a target=\"_blank\" href=https://colab.research.google.com/notebooks/data_table.ipynb>data table notebook</a>'\n",
              "          + ' to learn more about interactive tables.';\n",
              "        element.innerHTML = '';\n",
              "        dataTable['output_type'] = 'display_data';\n",
              "        await google.colab.output.renderOutput(dataTable, element);\n",
              "        const docLink = document.createElement('div');\n",
              "        docLink.innerHTML = docLinkHtml;\n",
              "        element.appendChild(docLink);\n",
              "      }\n",
              "    </script>\n",
              "  </div>\n",
              "\n",
              "\n",
              "<div id=\"df-b833d3cf-75e1-44c8-ba2e-3e26f7a86d7c\">\n",
              "  <button class=\"colab-df-quickchart\" onclick=\"quickchart('df-b833d3cf-75e1-44c8-ba2e-3e26f7a86d7c')\"\n",
              "            title=\"Suggest charts\"\n",
              "            style=\"display:none;\">\n",
              "\n",
              "<svg xmlns=\"http://www.w3.org/2000/svg\" height=\"24px\"viewBox=\"0 0 24 24\"\n",
              "     width=\"24px\">\n",
              "    <g>\n",
              "        <path d=\"M19 3H5c-1.1 0-2 .9-2 2v14c0 1.1.9 2 2 2h14c1.1 0 2-.9 2-2V5c0-1.1-.9-2-2-2zM9 17H7v-7h2v7zm4 0h-2V7h2v10zm4 0h-2v-4h2v4z\"/>\n",
              "    </g>\n",
              "</svg>\n",
              "  </button>\n",
              "\n",
              "<style>\n",
              "  .colab-df-quickchart {\n",
              "      --bg-color: #E8F0FE;\n",
              "      --fill-color: #1967D2;\n",
              "      --hover-bg-color: #E2EBFA;\n",
              "      --hover-fill-color: #174EA6;\n",
              "      --disabled-fill-color: #AAA;\n",
              "      --disabled-bg-color: #DDD;\n",
              "  }\n",
              "\n",
              "  [theme=dark] .colab-df-quickchart {\n",
              "      --bg-color: #3B4455;\n",
              "      --fill-color: #D2E3FC;\n",
              "      --hover-bg-color: #434B5C;\n",
              "      --hover-fill-color: #FFFFFF;\n",
              "      --disabled-bg-color: #3B4455;\n",
              "      --disabled-fill-color: #666;\n",
              "  }\n",
              "\n",
              "  .colab-df-quickchart {\n",
              "    background-color: var(--bg-color);\n",
              "    border: none;\n",
              "    border-radius: 50%;\n",
              "    cursor: pointer;\n",
              "    display: none;\n",
              "    fill: var(--fill-color);\n",
              "    height: 32px;\n",
              "    padding: 0;\n",
              "    width: 32px;\n",
              "  }\n",
              "\n",
              "  .colab-df-quickchart:hover {\n",
              "    background-color: var(--hover-bg-color);\n",
              "    box-shadow: 0 1px 2px rgba(60, 64, 67, 0.3), 0 1px 3px 1px rgba(60, 64, 67, 0.15);\n",
              "    fill: var(--button-hover-fill-color);\n",
              "  }\n",
              "\n",
              "  .colab-df-quickchart-complete:disabled,\n",
              "  .colab-df-quickchart-complete:disabled:hover {\n",
              "    background-color: var(--disabled-bg-color);\n",
              "    fill: var(--disabled-fill-color);\n",
              "    box-shadow: none;\n",
              "  }\n",
              "\n",
              "  .colab-df-spinner {\n",
              "    border: 2px solid var(--fill-color);\n",
              "    border-color: transparent;\n",
              "    border-bottom-color: var(--fill-color);\n",
              "    animation:\n",
              "      spin 1s steps(1) infinite;\n",
              "  }\n",
              "\n",
              "  @keyframes spin {\n",
              "    0% {\n",
              "      border-color: transparent;\n",
              "      border-bottom-color: var(--fill-color);\n",
              "      border-left-color: var(--fill-color);\n",
              "    }\n",
              "    20% {\n",
              "      border-color: transparent;\n",
              "      border-left-color: var(--fill-color);\n",
              "      border-top-color: var(--fill-color);\n",
              "    }\n",
              "    30% {\n",
              "      border-color: transparent;\n",
              "      border-left-color: var(--fill-color);\n",
              "      border-top-color: var(--fill-color);\n",
              "      border-right-color: var(--fill-color);\n",
              "    }\n",
              "    40% {\n",
              "      border-color: transparent;\n",
              "      border-right-color: var(--fill-color);\n",
              "      border-top-color: var(--fill-color);\n",
              "    }\n",
              "    60% {\n",
              "      border-color: transparent;\n",
              "      border-right-color: var(--fill-color);\n",
              "    }\n",
              "    80% {\n",
              "      border-color: transparent;\n",
              "      border-right-color: var(--fill-color);\n",
              "      border-bottom-color: var(--fill-color);\n",
              "    }\n",
              "    90% {\n",
              "      border-color: transparent;\n",
              "      border-bottom-color: var(--fill-color);\n",
              "    }\n",
              "  }\n",
              "</style>\n",
              "\n",
              "  <script>\n",
              "    async function quickchart(key) {\n",
              "      const quickchartButtonEl =\n",
              "        document.querySelector('#' + key + ' button');\n",
              "      quickchartButtonEl.disabled = true;  // To prevent multiple clicks.\n",
              "      quickchartButtonEl.classList.add('colab-df-spinner');\n",
              "      try {\n",
              "        const charts = await google.colab.kernel.invokeFunction(\n",
              "            'suggestCharts', [key], {});\n",
              "      } catch (error) {\n",
              "        console.error('Error during call to suggestCharts:', error);\n",
              "      }\n",
              "      quickchartButtonEl.classList.remove('colab-df-spinner');\n",
              "      quickchartButtonEl.classList.add('colab-df-quickchart-complete');\n",
              "    }\n",
              "    (() => {\n",
              "      let quickchartButtonEl =\n",
              "        document.querySelector('#df-b833d3cf-75e1-44c8-ba2e-3e26f7a86d7c button');\n",
              "      quickchartButtonEl.style.display =\n",
              "        google.colab.kernel.accessAllowed ? 'block' : 'none';\n",
              "    })();\n",
              "  </script>\n",
              "</div>\n",
              "\n",
              "    </div>\n",
              "  </div>\n"
            ],
            "application/vnd.google.colaboratory.intrinsic+json": {
              "type": "dataframe",
              "variable_name": "tempdf2"
            }
          },
          "metadata": {},
          "execution_count": 14
        }
      ]
    },
    {
      "cell_type": "markdown",
      "source": [
        "Next, I separate out my features from my target variable, creating complete \"features\" and target\" data sets."
      ],
      "metadata": {
        "id": "Y4Jyrg2vqnn5"
      }
    },
    {
      "cell_type": "code",
      "source": [
        "#Here I'm splitting my target from my features for later ease.\n",
        "features = tempdf2.drop(['Advisory', 'AirTemp_Mean'], axis=1)\n",
        "print(features)"
      ],
      "metadata": {
        "id": "ekBW3a6OpTDI",
        "colab": {
          "base_uri": "https://localhost:8080/"
        },
        "outputId": "c8ac21ad-4ce6-4cc7-e916-a42cea5149d9"
      },
      "execution_count": null,
      "outputs": [
        {
          "output_type": "stream",
          "name": "stdout",
          "text": [
            "        Month  Day  Hour   Latitude  Longitude neighborhood  \\\n",
            "0           8    9     7  40.666205 -73.916910  Brownsville   \n",
            "1           8    9     8  40.666205 -73.916910  Brownsville   \n",
            "2           8    9     9  40.666205 -73.916910  Brownsville   \n",
            "3           8    9    10  40.666205 -73.916910  Brownsville   \n",
            "4           8    9    11  40.666205 -73.916910  Brownsville   \n",
            "...       ...  ...   ...        ...        ...          ...   \n",
            "477571     10   15    16  40.663847 -73.908308  Brownsville   \n",
            "477572     10   15    17  40.663847 -73.908308  Brownsville   \n",
            "477573     10   15    18  40.663847 -73.908308  Brownsville   \n",
            "477574     10   15    19  40.663847 -73.908308  Brownsville   \n",
            "477575     10   15    20  40.663847 -73.908308  Brownsville   \n",
            "\n",
            "        median_householdinc Install.Type  \n",
            "0                     30733  Street Tree  \n",
            "1                     30733  Street Tree  \n",
            "2                     30733  Street Tree  \n",
            "3                     30733  Street Tree  \n",
            "4                     30733  Street Tree  \n",
            "...                     ...          ...  \n",
            "477571                30733  Street Tree  \n",
            "477572                30733  Street Tree  \n",
            "477573                30733  Street Tree  \n",
            "477574                30733  Street Tree  \n",
            "477575                30733  Street Tree  \n",
            "\n",
            "[477576 rows x 8 columns]\n"
          ]
        }
      ]
    },
    {
      "cell_type": "code",
      "source": [
        "target = tempdf[['Advisory', 'AirTemp_Mean']]\n",
        "print(target)"
      ],
      "metadata": {
        "id": "1VpoN9g7pdtP",
        "colab": {
          "base_uri": "https://localhost:8080/"
        },
        "outputId": "6bef7423-dab5-42f6-a1cd-d6ccd7aa3f85"
      },
      "execution_count": null,
      "outputs": [
        {
          "output_type": "stream",
          "name": "stdout",
          "text": [
            "       Advisory  AirTemp_Mean\n",
            "0        Normal     73.942167\n",
            "1        Normal     76.666333\n",
            "2        Normal     78.691333\n",
            "3       Caution     81.472500\n",
            "4       Caution     83.571667\n",
            "...         ...           ...\n",
            "477571   Normal     63.861167\n",
            "477572   Normal     63.782667\n",
            "477573   Normal     62.318667\n",
            "477574   Normal     60.682333\n",
            "477575   Normal     60.260000\n",
            "\n",
            "[477576 rows x 2 columns]\n"
          ]
        }
      ]
    },
    {
      "cell_type": "markdown",
      "source": [
        "### **One Hot Encoding**\n",
        "\n",
        "This time around I am also going create a version of the data with dummies for the categorical data--doing encoding for both features and targets."
      ],
      "metadata": {
        "id": "ZuRJxH344_zS"
      }
    },
    {
      "cell_type": "code",
      "source": [
        "print(\"Original features:\\n\", list(features.columns), \"\\n\")"
      ],
      "metadata": {
        "id": "XJ5tI3dK5DNi",
        "colab": {
          "base_uri": "https://localhost:8080/"
        },
        "outputId": "7b61a705-3187-40ee-d6a2-4e347a445334"
      },
      "execution_count": null,
      "outputs": [
        {
          "output_type": "stream",
          "name": "stdout",
          "text": [
            "Original features:\n",
            " ['Month', 'Day', 'Hour', 'Latitude', 'Longitude', 'neighborhood', 'median_householdinc', 'Install.Type'] \n",
            "\n"
          ]
        }
      ]
    },
    {
      "cell_type": "code",
      "source": [
        "# one-hot encoding using get_dummies\n",
        "data_dummies = pd.get_dummies(features, dtype=int)\n",
        "#see results check that it is done correctly\n",
        "print(\"Features after get_dummies:\\n\", list(data_dummies.columns))"
      ],
      "metadata": {
        "id": "opOdzD835Fy0",
        "colab": {
          "base_uri": "https://localhost:8080/"
        },
        "outputId": "32d8e898-a922-4d25-863c-9f3df42def6d"
      },
      "execution_count": null,
      "outputs": [
        {
          "output_type": "stream",
          "name": "stdout",
          "text": [
            "Features after get_dummies:\n",
            " ['Month', 'Day', 'Hour', 'Latitude', 'Longitude', 'median_householdinc', 'neighborhood_Bed-Stuy', 'neighborhood_Brownsville', 'neighborhood_Carroll Gardens', 'neighborhood_East Flatbush', 'neighborhood_East New York', 'neighborhood_Flatbush', 'neighborhood_Gowanus', 'Install.Type_Light Pole', 'Install.Type_Street Tree']\n"
          ]
        }
      ]
    },
    {
      "cell_type": "markdown",
      "source": [
        "### **LabelEncoder**\n",
        "\n",
        "This encodes labels that were in the target data with values from 0 through nth class (0 through 3 here)."
      ],
      "metadata": {
        "id": "yC0PSv4j5AlV"
      }
    },
    {
      "cell_type": "code",
      "source": [
        "## checking here to see if I'm going to need to stratify my data when I split for testing an training sets\n",
        "target['Advisory'].value_counts()"
      ],
      "metadata": {
        "id": "EbA8sk5R5IMZ",
        "colab": {
          "base_uri": "https://localhost:8080/"
        },
        "outputId": "dc250da2-234b-4298-d503-b081a6368c4f"
      },
      "execution_count": null,
      "outputs": [
        {
          "output_type": "execute_result",
          "data": {
            "text/plain": [
              "Advisory\n",
              "Normal             335605\n",
              "Caution            115337\n",
              "Extreme_Caution     26218\n",
              "Danger                416\n",
              "Name: count, dtype: int64"
            ]
          },
          "metadata": {},
          "execution_count": 19
        }
      ]
    },
    {
      "cell_type": "code",
      "source": [
        "from sklearn.preprocessing import LabelEncoder"
      ],
      "metadata": {
        "id": "36atoAhO5LmN"
      },
      "execution_count": null,
      "outputs": []
    },
    {
      "cell_type": "code",
      "source": [
        "# 'Advisory' is the target\n",
        "label_encoder = LabelEncoder()\n",
        "target_encoded = label_encoder.fit_transform(target['Advisory'])\n",
        "\n",
        "print(target_encoded)"
      ],
      "metadata": {
        "id": "hswxnlwk5P-e",
        "colab": {
          "base_uri": "https://localhost:8080/"
        },
        "outputId": "046285fc-a1d9-4cd7-b2b5-c0b108f494f4"
      },
      "execution_count": null,
      "outputs": [
        {
          "output_type": "stream",
          "name": "stdout",
          "text": [
            "[3 3 3 ... 3 3 3]\n"
          ]
        }
      ]
    },
    {
      "cell_type": "markdown",
      "source": [
        "### **Testing & Training Data Split**\n",
        "\n",
        "As seen above my target data on how safe it is outside (the advisory) is not evenly split between the overall data so I need to do a stratified testing and training dataset."
      ],
      "metadata": {
        "id": "CztPgtw55cPK"
      }
    },
    {
      "cell_type": "code",
      "source": [
        "X = data_dummies\n",
        "y = target_encoded\n",
        "print(\"X.shape: {} y.shape: {}\".format(X.shape, y.shape))"
      ],
      "metadata": {
        "id": "kSwz3lCd5bPw",
        "colab": {
          "base_uri": "https://localhost:8080/"
        },
        "outputId": "7542c5e6-3746-4cf0-9694-49fdebe687bb"
      },
      "execution_count": null,
      "outputs": [
        {
          "output_type": "stream",
          "name": "stdout",
          "text": [
            "X.shape: (477576, 15) y.shape: (477576,)\n"
          ]
        }
      ]
    },
    {
      "cell_type": "code",
      "source": [
        "from sklearn.model_selection import train_test_split"
      ],
      "metadata": {
        "id": "uDzJXul65keX"
      },
      "execution_count": null,
      "outputs": []
    },
    {
      "cell_type": "code",
      "source": [
        "X_train, X_test, y_train, y_test = train_test_split(X, y, stratify=y, random_state=15, test_size=0.2)"
      ],
      "metadata": {
        "id": "XNEODTuf5lPG"
      },
      "execution_count": null,
      "outputs": []
    },
    {
      "cell_type": "code",
      "source": [
        "# Confirming that the stratification worked\n",
        "\n",
        "def get_value_counts(array):\n",
        "  unique, counts = np.unique(array, return_counts=True)\n",
        "  total_count = counts.sum()\n",
        "  percent = counts / total_count\n",
        "\n",
        "  print(\"Unique Values:\", unique)\n",
        "  print(\"Counts:\", counts)\n",
        "  print(\"Proportion:\", percent)\n",
        "\n",
        "print(\"\", 'Test Distribution')\n",
        "get_value_counts(y_test)\n",
        "print(\"\", 'Training Distribution')\n",
        "get_value_counts(y_train)"
      ],
      "metadata": {
        "id": "zOPqNCz65nyi",
        "colab": {
          "base_uri": "https://localhost:8080/"
        },
        "outputId": "c95abda9-2943-42be-cc2c-1867b604510a"
      },
      "execution_count": null,
      "outputs": [
        {
          "output_type": "stream",
          "name": "stdout",
          "text": [
            " Test Distribution\n",
            "Unique Values: [0 1 2 3]\n",
            "Counts: [23068    83  5244 67121]\n",
            "Proportion: [0.24150928 0.00086896 0.0549018  0.70271996]\n",
            " Training Distribution\n",
            "Unique Values: [0 1 2 3]\n",
            "Counts: [ 92269    333  20974 268484]\n",
            "Proportion: [0.24150395 0.00087159 0.05489714 0.70272732]\n"
          ]
        }
      ]
    },
    {
      "cell_type": "markdown",
      "source": [
        "**Scale** the data."
      ],
      "metadata": {
        "id": "DdIwydtE52hS"
      }
    },
    {
      "cell_type": "code",
      "source": [
        "from sklearn.preprocessing import StandardScaler"
      ],
      "metadata": {
        "id": "e77-kmRY5924"
      },
      "execution_count": null,
      "outputs": []
    },
    {
      "cell_type": "code",
      "source": [
        "scaler = StandardScaler()\n",
        "X_train_scaled = scaler.fit_transform(X_train)\n",
        "X_test_scaled = scaler.transform(X_test)"
      ],
      "metadata": {
        "id": "91z3dUsJ6Bio"
      },
      "execution_count": null,
      "outputs": []
    },
    {
      "cell_type": "markdown",
      "source": [
        "## Step 2:\n",
        "\n",
        "### **PCA for Feature Selection**\n",
        "\n",
        "Two tasks in this section:\n",
        "\n",
        "* Show how many features do you need to retain to capture 95% of the variance\n",
        "* Evaluate whether this improves your best-performing model from Project 2"
      ],
      "metadata": {
        "id": "Sk1cGjXX6JgZ"
      }
    },
    {
      "cell_type": "markdown",
      "source": [
        "### **Part A**\n",
        "\n",
        "Show number of features needed to explain 95% of variance."
      ],
      "metadata": {
        "id": "S3yZSXjUsBPp"
      }
    },
    {
      "cell_type": "code",
      "source": [
        "from sklearn.decomposition import PCA"
      ],
      "metadata": {
        "id": "PC7PxcNG6lrI"
      },
      "execution_count": null,
      "outputs": []
    },
    {
      "cell_type": "code",
      "source": [
        "# keep components to explain 95% of the variance\n",
        "pca_unscaled = PCA(n_components=0.95)\n",
        "\n",
        "# fit PCA model to data\n",
        "pca_unscaled.fit(X_train)\n",
        "\n",
        "print('-'*20 + 'Explained variance ratio' + '-'*20)\n",
        "print(str(len(pca_unscaled.explained_variance_ratio_)) + ' features')\n",
        "print(pca_unscaled.explained_variance_ratio_)"
      ],
      "metadata": {
        "id": "qw630PkpkpIO",
        "colab": {
          "base_uri": "https://localhost:8080/"
        },
        "outputId": "9a4037e0-f4b2-48aa-e731-01c4df85c238"
      },
      "execution_count": null,
      "outputs": [
        {
          "output_type": "stream",
          "name": "stdout",
          "text": [
            "--------------------Explained variance ratio--------------------\n",
            "1 features\n",
            "[0.99999983]\n"
          ]
        }
      ]
    },
    {
      "cell_type": "code",
      "source": [
        "# plot the principal components\n",
        "plt.matshow(pca_unscaled.components_, cmap='viridis')\n",
        "plt.yticks([0], [\"Principle component\"])\n",
        "plt.colorbar()\n",
        "plt.xticks(range(len(data_dummies.columns)),\n",
        "           data_dummies.columns, rotation=60, ha='left')\n",
        "plt.xlabel(\"Feature\")\n",
        "plt.ylabel(\"Principal components\")"
      ],
      "metadata": {
        "id": "IXCNTTh8kqkI",
        "colab": {
          "base_uri": "https://localhost:8080/",
          "height": 280
        },
        "outputId": "135d986a-9f25-4f47-8e73-785ac80f78ae"
      },
      "execution_count": null,
      "outputs": [
        {
          "output_type": "execute_result",
          "data": {
            "text/plain": [
              "Text(0, 0.5, 'Principal components')"
            ]
          },
          "metadata": {},
          "execution_count": 29
        },
        {
          "output_type": "display_data",
          "data": {
            "text/plain": [
              "<Figure size 1600x200 with 2 Axes>"
            ],
            "image/png": "[encoded data removed]"
          },
          "metadata": {}
        }
      ]
    },
    {
      "cell_type": "markdown",
      "source": [
        "For unscaled data, it looks like I only need one feature component to retain 95% of the variance..."
      ],
      "metadata": {
        "id": "GH9FCwthsr-M"
      }
    },
    {
      "cell_type": "code",
      "source": [
        "# keep components to explain 95% of the variance using the scaled data this time\n",
        "pca_scaled = PCA(n_components=0.95)\n",
        "\n",
        "# fit PCA model to data\n",
        "pca_scaled.fit(X_train_scaled)\n",
        "\n",
        "print('-'*20 + 'Explained variance ratio' + '-'*20)\n",
        "print(str(len(pca_scaled.explained_variance_ratio_)) + ' features')\n",
        "print(pca_scaled.explained_variance_ratio_)"
      ],
      "metadata": {
        "id": "WcmR6i7cpEDd",
        "colab": {
          "base_uri": "https://localhost:8080/"
        },
        "outputId": "f8abe358-0248-4109-f2c0-2fbc9b2d9d9c"
      },
      "execution_count": null,
      "outputs": [
        {
          "output_type": "stream",
          "name": "stdout",
          "text": [
            "--------------------Explained variance ratio--------------------\n",
            "9 features\n",
            "[0.20606875 0.16988842 0.11215363 0.09085131 0.09004879 0.07852795\n",
            " 0.07151248 0.06961305 0.0666649 ]\n"
          ]
        }
      ]
    },
    {
      "cell_type": "code",
      "source": [
        "# plot the principal components\n",
        "plt.matshow(pca_scaled.components_, cmap='viridis')\n",
        "plt.yticks([0, 1,2,3,4,5,6,7,8], [\"1st component\", \"2nd component\", \"3rd component\", \"4th component\", \"5th component\", \"6th component\", \"7th component\", \"8th component\", \"9th component\"])\n",
        "plt.colorbar()\n",
        "plt.xticks(range(len(data_dummies.columns)),\n",
        "           data_dummies.columns, rotation=60, ha='left')\n",
        "plt.xlabel(\"Features\")\n",
        "plt.ylabel(\"Principal components\")"
      ],
      "metadata": {
        "colab": {
          "base_uri": "https://localhost:8080/",
          "height": 588
        },
        "id": "-t_Fcdtssf82",
        "outputId": "1741b244-7dda-474d-9928-ee3678fbd6ba"
      },
      "execution_count": null,
      "outputs": [
        {
          "output_type": "execute_result",
          "data": {
            "text/plain": [
              "Text(0, 0.5, 'Principal components')"
            ]
          },
          "metadata": {},
          "execution_count": 31
        },
        {
          "output_type": "display_data",
          "data": {
            "text/plain": [
              "<Figure size 800x480 with 2 Axes>"
            ],
            "image/png": "[encoded data removed]"
          },
          "metadata": {}
        }
      ]
    },
    {
      "cell_type": "markdown",
      "source": [
        "For scaled data, I need **nine** feature components to retain 95% of the variance--which makes much more sense with what I know about the dataset."
      ],
      "metadata": {
        "id": "d7OsQ_o9s5qd"
      }
    },
    {
      "cell_type": "markdown",
      "source": [
        "### **Part B**\n",
        "\n",
        "Evaluate whether this improves your best-performing model from Project 2. In this case, the DecisionTreeClassification worked slightly better than the KNN models. I also ran a RandomForest model on the training data separately, and again got slightly lower results than the DecisionTreeClassifier."
      ],
      "metadata": {
        "id": "nhUuo00DwEoV"
      }
    },
    {
      "cell_type": "code",
      "source": [
        "from sklearn.tree import DecisionTreeClassifier\n",
        "from sklearn.metrics import classification_report\n",
        "\n",
        "tree = DecisionTreeClassifier(random_state=0)"
      ],
      "metadata": {
        "id": "I8HInGkCX0Sg"
      },
      "execution_count": null,
      "outputs": []
    },
    {
      "cell_type": "code",
      "source": [
        "tree.fit(X_train, y_train)\n",
        "\n",
        "print(\"Accuracy on training set: {:.3f}\".format(tree.score(X_train, y_train)))\n",
        "print(\"Accuracy on test set: {:.3f}\".format(tree.score(X_test, y_test)))\n",
        "print(classification_report(y_test, tree.predict(X_test),\n",
        "                            target_names=[\"class 0 CAUTION\",\n",
        "                                          \"class 1 DANGER\",\n",
        "                                          \"class 2 EX. CAUTION\",\n",
        "                                          \"class 3 NORMAL\"]))"
      ],
      "metadata": {
        "colab": {
          "base_uri": "https://localhost:8080/"
        },
        "id": "hOSIHuF-wgh8",
        "outputId": "ddc5d93e-cbc0-4ce7-fa36-a2353d896e5e"
      },
      "execution_count": null,
      "outputs": [
        {
          "output_type": "stream",
          "name": "stdout",
          "text": [
            "Accuracy on training set: 1.000\n",
            "Accuracy on test set: 0.939\n",
            "                     precision    recall  f1-score   support\n",
            "\n",
            "    class 0 CAUTION       0.88      0.87      0.88     23068\n",
            "     class 1 DANGER       0.72      0.72      0.72        83\n",
            "class 2 EX. CAUTION       0.78      0.79      0.79      5244\n",
            "     class 3 NORMAL       0.97      0.97      0.97     67121\n",
            "\n",
            "           accuracy                           0.94     95516\n",
            "          macro avg       0.84      0.84      0.84     95516\n",
            "       weighted avg       0.94      0.94      0.94     95516\n",
            "\n"
          ]
        }
      ]
    },
    {
      "cell_type": "markdown",
      "source": [
        "Now I set up an instance of PCA with nine principal components of the scaled data, and run the DecisionTree on it."
      ],
      "metadata": {
        "id": "89hWBIkmyy4m"
      }
    },
    {
      "cell_type": "code",
      "source": [
        "pca_9_scaled = PCA(n_components=9)\n",
        "\n",
        "# fit on and transforming the training set and then transform the test set\n",
        "X_train_pca_scaled = pca_9_scaled.fit_transform(X_train_scaled)\n",
        "X_test_pca_scaled = pca_9_scaled.transform(X_test_scaled)"
      ],
      "metadata": {
        "id": "bVgjLCt_vqAB"
      },
      "execution_count": null,
      "outputs": []
    },
    {
      "cell_type": "code",
      "source": [
        "tree.fit(X_train_pca_scaled, y_train)\n",
        "\n",
        "print(\"Accuracy on training set: {:.3f}\".format(tree.score(X_train_pca_scaled, y_train)))\n",
        "print(\"Accuracy on test set: {:.3f}\".format(tree.score(X_test_pca_scaled, y_test)))"
      ],
      "metadata": {
        "colab": {
          "base_uri": "https://localhost:8080/"
        },
        "id": "EaQhGs45xTfJ",
        "outputId": "b8af63cf-bc85-45d9-c289-5ae3329c0026"
      },
      "execution_count": null,
      "outputs": [
        {
          "output_type": "stream",
          "name": "stdout",
          "text": [
            "Accuracy on training set: 1.000\n",
            "Accuracy on test set: 0.919\n"
          ]
        }
      ]
    },
    {
      "cell_type": "markdown",
      "source": [
        "Now I set up an instance of PCA with one principal component of the unscaled data, and run the DecisionTree on it--just to be sure the scaled is the better direction."
      ],
      "metadata": {
        "id": "QZwc0EbLzKG2"
      }
    },
    {
      "cell_type": "code",
      "source": [
        "pca_2_unscaled = PCA(n_components=2)\n",
        "\n",
        "# fit on and transforming the training set and then transform the test set\n",
        "X_train_pca_unscaled = pca_2_unscaled.fit_transform(X_train)\n",
        "X_test_pca_unscaled = pca_2_unscaled.transform(X_test)"
      ],
      "metadata": {
        "id": "_TvKEVy_sr_7"
      },
      "execution_count": null,
      "outputs": []
    },
    {
      "cell_type": "code",
      "source": [
        "tree.fit(X_train_pca_unscaled, y_train)\n",
        "\n",
        "print(\"Accuracy on training set: {:.3f}\".format(tree.score(X_train_pca_unscaled, y_train)))\n",
        "print(\"Accuracy on test set: {:.3f}\".format(tree.score(X_test_pca_unscaled, y_test)))\n"
      ],
      "metadata": {
        "colab": {
          "base_uri": "https://localhost:8080/"
        },
        "id": "neMF1v98ssmC",
        "outputId": "174ff269-75a2-4f81-def2-f88860b89de0"
      },
      "execution_count": null,
      "outputs": [
        {
          "output_type": "stream",
          "name": "stdout",
          "text": [
            "Accuracy on training set: 0.947\n",
            "Accuracy on test set: 0.936\n"
          ]
        }
      ]
    },
    {
      "cell_type": "markdown",
      "source": [
        "I was surprised to see it perform better on the unscaled data, but given that it was performing 100% on the training set with the scaled data, I wonder if the prior model is was overfitting. To be extra careful, I loop back to doing a KNN model and see how it does with the PCA approach."
      ],
      "metadata": {
        "id": "ijEngKZNzYuZ"
      }
    },
    {
      "cell_type": "code",
      "source": [
        "from sklearn.neighbors import KNeighborsClassifier\n",
        "k = 7\n",
        "\n",
        "knn = KNeighborsClassifier(n_neighbors=k)"
      ],
      "metadata": {
        "id": "RTL1jmEIz-LG"
      },
      "execution_count": null,
      "outputs": []
    },
    {
      "cell_type": "code",
      "source": [
        "knn.fit(X_train, y_train)\n",
        "\n",
        "print(\"Test set accuracy: {:.4f}\".format(knn.score(X_test, y_test)))"
      ],
      "metadata": {
        "colab": {
          "base_uri": "https://localhost:8080/"
        },
        "id": "hBJxLUemzklk",
        "outputId": "bd6d59d8-7669-4550-a48f-87226007fd2d"
      },
      "execution_count": null,
      "outputs": [
        {
          "output_type": "stream",
          "name": "stdout",
          "text": [
            "Test set accuracy: 0.9384\n"
          ]
        }
      ]
    },
    {
      "cell_type": "code",
      "source": [
        "knn.fit(X_train_pca_scaled, y_train)\n",
        "\n",
        "print(\"Accuracy on training set: {:.3f}\".format(knn.score(X_train_pca_scaled, y_train)))\n",
        "print(\"Accuracy on test set: {:.3f}\".format(knn.score(X_test_pca_scaled, y_test)))"
      ],
      "metadata": {
        "colab": {
          "base_uri": "https://localhost:8080/"
        },
        "id": "h05k48FD0YlU",
        "outputId": "6c005918-2026-4984-dca0-3a1f8212ce8b"
      },
      "execution_count": null,
      "outputs": [
        {
          "output_type": "stream",
          "name": "stdout",
          "text": [
            "Accuracy on training set: 0.823\n",
            "Accuracy on test set: 0.754\n"
          ]
        }
      ]
    },
    {
      "cell_type": "code",
      "source": [
        "knn.fit(X_train_pca_unscaled, y_train)\n",
        "\n",
        "print(\"Accuracy on training set: {:.3f}\".format(knn.score(X_train_pca_unscaled, y_train)))\n",
        "print(\"Accuracy on test set: {:.3f}\".format(knn.score(X_test_pca_unscaled, y_test)))"
      ],
      "metadata": {
        "colab": {
          "base_uri": "https://localhost:8080/"
        },
        "id": "jWtsGCn30kC2",
        "outputId": "5ebfdcd9-b3c2-4ada-a0bf-0dd5470b9b61"
      },
      "execution_count": null,
      "outputs": [
        {
          "output_type": "stream",
          "name": "stdout",
          "text": [
            "Accuracy on training set: 0.947\n",
            "Accuracy on test set: 0.935\n"
          ]
        }
      ]
    },
    {
      "cell_type": "markdown",
      "source": [
        "Once again, the unscaled data performs better than the scaled data..."
      ],
      "metadata": {
        "id": "AEdeIhYB1Z2s"
      }
    },
    {
      "cell_type": "markdown",
      "source": [
        "## Step 3:\n",
        "\n",
        "### **3-types of clustering on your data and visualize the output of each both with and without PCA run on it first.**\n",
        "\n",
        "* k-Means (use an elbow visualization to determine the optimal numbers of clusters)\n",
        "* Aggolmerate/Hierarchical\n",
        "* DBSCAN\n",
        "\n",
        "### **Calculate both ARI and Silhouette Coefficient for all six of the combinations**"
      ],
      "metadata": {
        "id": "U7I7j75b1vr3"
      }
    },
    {
      "cell_type": "markdown",
      "source": [
        "### Part A"
      ],
      "metadata": {
        "id": "IKY_LwrS8-C5"
      }
    },
    {
      "cell_type": "markdown",
      "source": [
        "##### **K-Means Clustering**"
      ],
      "metadata": {
        "id": "Nb1DfE4KWHRa"
      }
    },
    {
      "cell_type": "markdown",
      "source": [
        "Starting with the **scaled** data."
      ],
      "metadata": {
        "id": "7leZwTPPCq-E"
      }
    },
    {
      "cell_type": "code",
      "source": [
        "# import library\n",
        "from sklearn.cluster import KMeans"
      ],
      "metadata": {
        "id": "uJeekIcx2JBK"
      },
      "execution_count": null,
      "outputs": []
    },
    {
      "cell_type": "code",
      "source": [
        "# instantiate an instance of k-Means\n",
        "kmeans = KMeans(n_clusters=6)\n",
        "kmeans.fit(X_train_scaled)"
      ],
      "metadata": {
        "colab": {
          "base_uri": "https://localhost:8080/",
          "height": 80
        },
        "id": "qjrh2OZJ2coU",
        "outputId": "d9cea9f1-8c1e-468b-bd07-94d59ef2ec6c"
      },
      "execution_count": null,
      "outputs": [
        {
          "output_type": "execute_result",
          "data": {
            "text/plain": [
              "KMeans(n_clusters=6)"
            ],
            "text/html": [
              "<style>#sk-container-id-3 {\n",
              "  /* Definition of color scheme common for light and dark mode */\n",
              "  --sklearn-color-text: black;\n",
              "  --sklearn-color-line: gray;\n",
              "  /* Definition of color scheme for unfitted estimators */\n",
              "  --sklearn-color-unfitted-level-0: #fff5e6;\n",
              "  --sklearn-color-unfitted-level-1: #f6e4d2;\n",
              "  --sklearn-color-unfitted-level-2: #ffe0b3;\n",
              "  --sklearn-color-unfitted-level-3: chocolate;\n",
              "  /* Definition of color scheme for fitted estimators */\n",
              "  --sklearn-color-fitted-level-0: #f0f8ff;\n",
              "  --sklearn-color-fitted-level-1: #d4ebff;\n",
              "  --sklearn-color-fitted-level-2: #b3dbfd;\n",
              "  --sklearn-color-fitted-level-3: cornflowerblue;\n",
              "\n",
              "  /* Specific color for light theme */\n",
              "  --sklearn-color-text-on-default-background: var(--sg-text-color, var(--theme-code-foreground, var(--jp-content-font-color1, black)));\n",
              "  --sklearn-color-background: var(--sg-background-color, var(--theme-background, var(--jp-layout-color0, white)));\n",
              "  --sklearn-color-border-box: var(--sg-text-color, var(--theme-code-foreground, var(--jp-content-font-color1, black)));\n",
              "  --sklearn-color-icon: #696969;\n",
              "\n",
              "  @media (prefers-color-scheme: dark) {\n",
              "    /* Redefinition of color scheme for dark theme */\n",
              "    --sklearn-color-text-on-default-background: var(--sg-text-color, var(--theme-code-foreground, var(--jp-content-font-color1, white)));\n",
              "    --sklearn-color-background: var(--sg-background-color, var(--theme-background, var(--jp-layout-color0, #111)));\n",
              "    --sklearn-color-border-box: var(--sg-text-color, var(--theme-code-foreground, var(--jp-content-font-color1, white)));\n",
              "    --sklearn-color-icon: #878787;\n",
              "  }\n",
              "}\n",
              "\n",
              "#sk-container-id-3 {\n",
              "  color: var(--sklearn-color-text);\n",
              "}\n",
              "\n",
              "#sk-container-id-3 pre {\n",
              "  padding: 0;\n",
              "}\n",
              "\n",
              "#sk-container-id-3 input.sk-hidden--visually {\n",
              "  border: 0;\n",
              "  clip: rect(1px 1px 1px 1px);\n",
              "  clip: rect(1px, 1px, 1px, 1px);\n",
              "  height: 1px;\n",
              "  margin: -1px;\n",
              "  overflow: hidden;\n",
              "  padding: 0;\n",
              "  position: absolute;\n",
              "  width: 1px;\n",
              "}\n",
              "\n",
              "#sk-container-id-3 div.sk-dashed-wrapped {\n",
              "  border: 1px dashed var(--sklearn-color-line);\n",
              "  margin: 0 0.4em 0.5em 0.4em;\n",
              "  box-sizing: border-box;\n",
              "  padding-bottom: 0.4em;\n",
              "  background-color: var(--sklearn-color-background);\n",
              "}\n",
              "\n",
              "#sk-container-id-3 div.sk-container {\n",
              "  /* jupyter's `normalize.less` sets `[hidden] { display: none; }`\n",
              "     but bootstrap.min.css set `[hidden] { display: none !important; }`\n",
              "     so we also need the `!important` here to be able to override the\n",
              "     default hidden behavior on the sphinx rendered scikit-learn.org.\n",
              "     See: https://github.com/scikit-learn/scikit-learn/issues/21755 */\n",
              "  display: inline-block !important;\n",
              "  position: relative;\n",
              "}\n",
              "\n",
              "#sk-container-id-3 div.sk-text-repr-fallback {\n",
              "  display: none;\n",
              "}\n",
              "\n",
              "div.sk-parallel-item,\n",
              "div.sk-serial,\n",
              "div.sk-item {\n",
              "  /* draw centered vertical line to link estimators */\n",
              "  background-image: linear-gradient(var(--sklearn-color-text-on-default-background), var(--sklearn-color-text-on-default-background));\n",
              "  background-size: 2px 100%;\n",
              "  background-repeat: no-repeat;\n",
              "  background-position: center center;\n",
              "}\n",
              "\n",
              "/* Parallel-specific style estimator block */\n",
              "\n",
              "#sk-container-id-3 div.sk-parallel-item::after {\n",
              "  content: \"\";\n",
              "  width: 100%;\n",
              "  border-bottom: 2px solid var(--sklearn-color-text-on-default-background);\n",
              "  flex-grow: 1;\n",
              "}\n",
              "\n",
              "#sk-container-id-3 div.sk-parallel {\n",
              "  display: flex;\n",
              "  align-items: stretch;\n",
              "  justify-content: center;\n",
              "  background-color: var(--sklearn-color-background);\n",
              "  position: relative;\n",
              "}\n",
              "\n",
              "#sk-container-id-3 div.sk-parallel-item {\n",
              "  display: flex;\n",
              "  flex-direction: column;\n",
              "}\n",
              "\n",
              "#sk-container-id-3 div.sk-parallel-item:first-child::after {\n",
              "  align-self: flex-end;\n",
              "  width: 50%;\n",
              "}\n",
              "\n",
              "#sk-container-id-3 div.sk-parallel-item:last-child::after {\n",
              "  align-self: flex-start;\n",
              "  width: 50%;\n",
              "}\n",
              "\n",
              "#sk-container-id-3 div.sk-parallel-item:only-child::after {\n",
              "  width: 0;\n",
              "}\n",
              "\n",
              "/* Serial-specific style estimator block */\n",
              "\n",
              "#sk-container-id-3 div.sk-serial {\n",
              "  display: flex;\n",
              "  flex-direction: column;\n",
              "  align-items: center;\n",
              "  background-color: var(--sklearn-color-background);\n",
              "  padding-right: 1em;\n",
              "  padding-left: 1em;\n",
              "}\n",
              "\n",
              "\n",
              "/* Toggleable style: style used for estimator/Pipeline/ColumnTransformer box that is\n",
              "clickable and can be expanded/collapsed.\n",
              "- Pipeline and ColumnTransformer use this feature and define the default style\n",
              "- Estimators will overwrite some part of the style using the `sk-estimator` class\n",
              "*/\n",
              "\n",
              "/* Pipeline and ColumnTransformer style (default) */\n",
              "\n",
              "#sk-container-id-3 div.sk-toggleable {\n",
              "  /* Default theme specific background. It is overwritten whether we have a\n",
              "  specific estimator or a Pipeline/ColumnTransformer */\n",
              "  background-color: var(--sklearn-color-background);\n",
              "}\n",
              "\n",
              "/* Toggleable label */\n",
              "#sk-container-id-3 label.sk-toggleable__label {\n",
              "  cursor: pointer;\n",
              "  display: block;\n",
              "  width: 100%;\n",
              "  margin-bottom: 0;\n",
              "  padding: 0.5em;\n",
              "  box-sizing: border-box;\n",
              "  text-align: center;\n",
              "}\n",
              "\n",
              "#sk-container-id-3 label.sk-toggleable__label-arrow:before {\n",
              "  /* Arrow on the left of the label */\n",
              "  content: \"▸\";\n",
              "  float: left;\n",
              "  margin-right: 0.25em;\n",
              "  color: var(--sklearn-color-icon);\n",
              "}\n",
              "\n",
              "#sk-container-id-3 label.sk-toggleable__label-arrow:hover:before {\n",
              "  color: var(--sklearn-color-text);\n",
              "}\n",
              "\n",
              "/* Toggleable content - dropdown */\n",
              "\n",
              "#sk-container-id-3 div.sk-toggleable__content {\n",
              "  max-height: 0;\n",
              "  max-width: 0;\n",
              "  overflow: hidden;\n",
              "  text-align: left;\n",
              "  /* unfitted */\n",
              "  background-color: var(--sklearn-color-unfitted-level-0);\n",
              "}\n",
              "\n",
              "#sk-container-id-3 div.sk-toggleable__content.fitted {\n",
              "  /* fitted */\n",
              "  background-color: var(--sklearn-color-fitted-level-0);\n",
              "}\n",
              "\n",
              "#sk-container-id-3 div.sk-toggleable__content pre {\n",
              "  margin: 0.2em;\n",
              "  border-radius: 0.25em;\n",
              "  color: var(--sklearn-color-text);\n",
              "  /* unfitted */\n",
              "  background-color: var(--sklearn-color-unfitted-level-0);\n",
              "}\n",
              "\n",
              "#sk-container-id-3 div.sk-toggleable__content.fitted pre {\n",
              "  /* unfitted */\n",
              "  background-color: var(--sklearn-color-fitted-level-0);\n",
              "}\n",
              "\n",
              "#sk-container-id-3 input.sk-toggleable__control:checked~div.sk-toggleable__content {\n",
              "  /* Expand drop-down */\n",
              "  max-height: 200px;\n",
              "  max-width: 100%;\n",
              "  overflow: auto;\n",
              "}\n",
              "\n",
              "#sk-container-id-3 input.sk-toggleable__control:checked~label.sk-toggleable__label-arrow:before {\n",
              "  content: \"▾\";\n",
              "}\n",
              "\n",
              "/* Pipeline/ColumnTransformer-specific style */\n",
              "\n",
              "#sk-container-id-3 div.sk-label input.sk-toggleable__control:checked~label.sk-toggleable__label {\n",
              "  color: var(--sklearn-color-text);\n",
              "  background-color: var(--sklearn-color-unfitted-level-2);\n",
              "}\n",
              "\n",
              "#sk-container-id-3 div.sk-label.fitted input.sk-toggleable__control:checked~label.sk-toggleable__label {\n",
              "  background-color: var(--sklearn-color-fitted-level-2);\n",
              "}\n",
              "\n",
              "/* Estimator-specific style */\n",
              "\n",
              "/* Colorize estimator box */\n",
              "#sk-container-id-3 div.sk-estimator input.sk-toggleable__control:checked~label.sk-toggleable__label {\n",
              "  /* unfitted */\n",
              "  background-color: var(--sklearn-color-unfitted-level-2);\n",
              "}\n",
              "\n",
              "#sk-container-id-3 div.sk-estimator.fitted input.sk-toggleable__control:checked~label.sk-toggleable__label {\n",
              "  /* fitted */\n",
              "  background-color: var(--sklearn-color-fitted-level-2);\n",
              "}\n",
              "\n",
              "#sk-container-id-3 div.sk-label label.sk-toggleable__label,\n",
              "#sk-container-id-3 div.sk-label label {\n",
              "  /* The background is the default theme color */\n",
              "  color: var(--sklearn-color-text-on-default-background);\n",
              "}\n",
              "\n",
              "/* On hover, darken the color of the background */\n",
              "#sk-container-id-3 div.sk-label:hover label.sk-toggleable__label {\n",
              "  color: var(--sklearn-color-text);\n",
              "  background-color: var(--sklearn-color-unfitted-level-2);\n",
              "}\n",
              "\n",
              "/* Label box, darken color on hover, fitted */\n",
              "#sk-container-id-3 div.sk-label.fitted:hover label.sk-toggleable__label.fitted {\n",
              "  color: var(--sklearn-color-text);\n",
              "  background-color: var(--sklearn-color-fitted-level-2);\n",
              "}\n",
              "\n",
              "/* Estimator label */\n",
              "\n",
              "#sk-container-id-3 div.sk-label label {\n",
              "  font-family: monospace;\n",
              "  font-weight: bold;\n",
              "  display: inline-block;\n",
              "  line-height: 1.2em;\n",
              "}\n",
              "\n",
              "#sk-container-id-3 div.sk-label-container {\n",
              "  text-align: center;\n",
              "}\n",
              "\n",
              "/* Estimator-specific */\n",
              "#sk-container-id-3 div.sk-estimator {\n",
              "  font-family: monospace;\n",
              "  border: 1px dotted var(--sklearn-color-border-box);\n",
              "  border-radius: 0.25em;\n",
              "  box-sizing: border-box;\n",
              "  margin-bottom: 0.5em;\n",
              "  /* unfitted */\n",
              "  background-color: var(--sklearn-color-unfitted-level-0);\n",
              "}\n",
              "\n",
              "#sk-container-id-3 div.sk-estimator.fitted {\n",
              "  /* fitted */\n",
              "  background-color: var(--sklearn-color-fitted-level-0);\n",
              "}\n",
              "\n",
              "/* on hover */\n",
              "#sk-container-id-3 div.sk-estimator:hover {\n",
              "  /* unfitted */\n",
              "  background-color: var(--sklearn-color-unfitted-level-2);\n",
              "}\n",
              "\n",
              "#sk-container-id-3 div.sk-estimator.fitted:hover {\n",
              "  /* fitted */\n",
              "  background-color: var(--sklearn-color-fitted-level-2);\n",
              "}\n",
              "\n",
              "/* Specification for estimator info (e.g. \"i\" and \"?\") */\n",
              "\n",
              "/* Common style for \"i\" and \"?\" */\n",
              "\n",
              ".sk-estimator-doc-link,\n",
              "a:link.sk-estimator-doc-link,\n",
              "a:visited.sk-estimator-doc-link {\n",
              "  float: right;\n",
              "  font-size: smaller;\n",
              "  line-height: 1em;\n",
              "  font-family: monospace;\n",
              "  background-color: var(--sklearn-color-background);\n",
              "  border-radius: 1em;\n",
              "  height: 1em;\n",
              "  width: 1em;\n",
              "  text-decoration: none !important;\n",
              "  margin-left: 1ex;\n",
              "  /* unfitted */\n",
              "  border: var(--sklearn-color-unfitted-level-1) 1pt solid;\n",
              "  color: var(--sklearn-color-unfitted-level-1);\n",
              "}\n",
              "\n",
              ".sk-estimator-doc-link.fitted,\n",
              "a:link.sk-estimator-doc-link.fitted,\n",
              "a:visited.sk-estimator-doc-link.fitted {\n",
              "  /* fitted */\n",
              "  border: var(--sklearn-color-fitted-level-1) 1pt solid;\n",
              "  color: var(--sklearn-color-fitted-level-1);\n",
              "}\n",
              "\n",
              "/* On hover */\n",
              "div.sk-estimator:hover .sk-estimator-doc-link:hover,\n",
              ".sk-estimator-doc-link:hover,\n",
              "div.sk-label-container:hover .sk-estimator-doc-link:hover,\n",
              ".sk-estimator-doc-link:hover {\n",
              "  /* unfitted */\n",
              "  background-color: var(--sklearn-color-unfitted-level-3);\n",
              "  color: var(--sklearn-color-background);\n",
              "  text-decoration: none;\n",
              "}\n",
              "\n",
              "div.sk-estimator.fitted:hover .sk-estimator-doc-link.fitted:hover,\n",
              ".sk-estimator-doc-link.fitted:hover,\n",
              "div.sk-label-container:hover .sk-estimator-doc-link.fitted:hover,\n",
              ".sk-estimator-doc-link.fitted:hover {\n",
              "  /* fitted */\n",
              "  background-color: var(--sklearn-color-fitted-level-3);\n",
              "  color: var(--sklearn-color-background);\n",
              "  text-decoration: none;\n",
              "}\n",
              "\n",
              "/* Span, style for the box shown on hovering the info icon */\n",
              ".sk-estimator-doc-link span {\n",
              "  display: none;\n",
              "  z-index: 9999;\n",
              "  position: relative;\n",
              "  font-weight: normal;\n",
              "  right: .2ex;\n",
              "  padding: .5ex;\n",
              "  margin: .5ex;\n",
              "  width: min-content;\n",
              "  min-width: 20ex;\n",
              "  max-width: 50ex;\n",
              "  color: var(--sklearn-color-text);\n",
              "  box-shadow: 2pt 2pt 4pt #999;\n",
              "  /* unfitted */\n",
              "  background: var(--sklearn-color-unfitted-level-0);\n",
              "  border: .5pt solid var(--sklearn-color-unfitted-level-3);\n",
              "}\n",
              "\n",
              ".sk-estimator-doc-link.fitted span {\n",
              "  /* fitted */\n",
              "  background: var(--sklearn-color-fitted-level-0);\n",
              "  border: var(--sklearn-color-fitted-level-3);\n",
              "}\n",
              "\n",
              ".sk-estimator-doc-link:hover span {\n",
              "  display: block;\n",
              "}\n",
              "\n",
              "/* \"?\"-specific style due to the `<a>` HTML tag */\n",
              "\n",
              "#sk-container-id-3 a.estimator_doc_link {\n",
              "  float: right;\n",
              "  font-size: 1rem;\n",
              "  line-height: 1em;\n",
              "  font-family: monospace;\n",
              "  background-color: var(--sklearn-color-background);\n",
              "  border-radius: 1rem;\n",
              "  height: 1rem;\n",
              "  width: 1rem;\n",
              "  text-decoration: none;\n",
              "  /* unfitted */\n",
              "  color: var(--sklearn-color-unfitted-level-1);\n",
              "  border: var(--sklearn-color-unfitted-level-1) 1pt solid;\n",
              "}\n",
              "\n",
              "#sk-container-id-3 a.estimator_doc_link.fitted {\n",
              "  /* fitted */\n",
              "  border: var(--sklearn-color-fitted-level-1) 1pt solid;\n",
              "  color: var(--sklearn-color-fitted-level-1);\n",
              "}\n",
              "\n",
              "/* On hover */\n",
              "#sk-container-id-3 a.estimator_doc_link:hover {\n",
              "  /* unfitted */\n",
              "  background-color: var(--sklearn-color-unfitted-level-3);\n",
              "  color: var(--sklearn-color-background);\n",
              "  text-decoration: none;\n",
              "}\n",
              "\n",
              "#sk-container-id-3 a.estimator_doc_link.fitted:hover {\n",
              "  /* fitted */\n",
              "  background-color: var(--sklearn-color-fitted-level-3);\n",
              "}\n",
              "</style><div id=\"sk-container-id-3\" class=\"sk-top-container\"><div class=\"sk-text-repr-fallback\"><pre>KMeans(n_clusters=6)</pre><b>In a Jupyter environment, please rerun this cell to show the HTML representation or trust the notebook. <br />On GitHub, the HTML representation is unable to render, please try loading this page with nbviewer.org.</b></div><div class=\"sk-container\" hidden><div class=\"sk-item\"><div class=\"sk-estimator fitted sk-toggleable\"><input class=\"sk-toggleable__control sk-hidden--visually\" id=\"sk-estimator-id-3\" type=\"checkbox\" checked><label for=\"sk-estimator-id-3\" class=\"sk-toggleable__label fitted sk-toggleable__label-arrow fitted\">&nbsp;&nbsp;KMeans<a class=\"sk-estimator-doc-link fitted\" rel=\"noreferrer\" target=\"_blank\" href=\"https://scikit-learn.org/1.4/modules/generated/sklearn.cluster.KMeans.html\">?<span>Documentation for KMeans</span></a><span class=\"sk-estimator-doc-link fitted\">i<span>Fitted</span></span></label><div class=\"sk-toggleable__content fitted\"><pre>KMeans(n_clusters=6)</pre></div> </div></div></div></div>"
            ]
          },
          "metadata": {},
          "execution_count": 56
        }
      ]
    },
    {
      "cell_type": "code",
      "source": [
        "# get assignments (labels)\n",
        "assignments=kmeans.labels_"
      ],
      "metadata": {
        "id": "5YkRoQZP2egB"
      },
      "execution_count": null,
      "outputs": []
    },
    {
      "cell_type": "code",
      "source": [
        "xs = X_train_scaled[:,0]\n",
        "ys = X_train_scaled[:,1]"
      ],
      "metadata": {
        "id": "-zygcO2c5oBp"
      },
      "execution_count": null,
      "outputs": []
    },
    {
      "cell_type": "code",
      "source": [
        "centroids = kmeans.cluster_centers_"
      ],
      "metadata": {
        "id": "RcBhCuIn6akU"
      },
      "execution_count": null,
      "outputs": []
    },
    {
      "cell_type": "code",
      "source": [
        "centroids_x = centroids[:,0]\n",
        "centroids_y = centroids[:,1]"
      ],
      "metadata": {
        "id": "oBPcVErU6utw"
      },
      "execution_count": null,
      "outputs": []
    },
    {
      "cell_type": "code",
      "source": [
        "plt.scatter(xs, ys, c=assignments)\n",
        "plt.scatter(centroids_x, centroids_y, marker=\"D\", s=50, c=\"black\")\n",
        "plt.xlabel(\"Feature 0\")\n",
        "plt.ylabel(\"Feature 1\")\n",
        "plt.show()"
      ],
      "metadata": {
        "colab": {
          "base_uri": "https://localhost:8080/",
          "height": 449
        },
        "id": "fiS_5fuH61A5",
        "outputId": "7498bb7c-1bb7-4b42-9d45-c0ddb02c3dde"
      },
      "execution_count": null,
      "outputs": [
        {
          "output_type": "display_data",
          "data": {
            "text/plain": [
              "<Figure size 640x480 with 1 Axes>"
            ],
            "image/png": "[encoded data removed]"
          },
          "metadata": {}
        }
      ]
    },
    {
      "cell_type": "code",
      "source": [
        "# plot a scatter matrix of the results\n",
        "mglearn.discrete_scatter(X_train_scaled[:, 0], X_train_scaled[:, 1], assignments)\n",
        "plt.xlabel(\"Feature 0\")\n",
        "plt.ylabel(\"Feature 1\")\n"
      ],
      "metadata": {
        "colab": {
          "base_uri": "https://localhost:8080/",
          "height": 466
        },
        "id": "C3wQgwuU-Pcu",
        "outputId": "d30f4f19-1f35-43a0-ebc4-e7cfc1a646d7"
      },
      "execution_count": null,
      "outputs": [
        {
          "output_type": "execute_result",
          "data": {
            "text/plain": [
              "Text(0, 0.5, 'Feature 1')"
            ]
          },
          "metadata": {},
          "execution_count": 62
        },
        {
          "output_type": "display_data",
          "data": {
            "text/plain": [
              "<Figure size 640x480 with 1 Axes>"
            ],
            "image/png": "[encoded data removed]"
          },
          "metadata": {}
        }
      ]
    },
    {
      "cell_type": "markdown",
      "source": [
        "Trying elbow on scaled..."
      ],
      "metadata": {
        "id": "gCAjROVu_8H2"
      }
    },
    {
      "cell_type": "code",
      "source": [
        "ks = range(1, 10)\n",
        "inertias = []\n",
        "\n",
        "for k in ks:\n",
        "    # Create a KMeans instance with k clusters: model\n",
        "    model = KMeans(n_clusters=k)\n",
        "\n",
        "    # Fit model to samples\n",
        "    model.fit(X_train_scaled)\n",
        "\n",
        "    # Append the inertia to the list of inertias\n",
        "    inertias.append(model.inertia_)\n",
        "\n",
        "# Plot ks vs inertias\n",
        "plt.plot(ks, inertias, '-o')\n",
        "plt.xlabel('number of clusters, k')\n",
        "plt.ylabel('inertia')\n",
        "plt.xticks(ks)\n",
        "plt.show()\n"
      ],
      "metadata": {
        "colab": {
          "base_uri": "https://localhost:8080/",
          "height": 465
        },
        "id": "VjPVeP8t9Jh6",
        "outputId": "f3a52410-69e6-41e5-e434-ee87245d5db7"
      },
      "execution_count": null,
      "outputs": [
        {
          "output_type": "display_data",
          "data": {
            "text/plain": [
              "<Figure size 640x480 with 1 Axes>"
            ],
            "image/png": "[encoded data removed]"
          },
          "metadata": {}
        }
      ]
    },
    {
      "cell_type": "code",
      "source": [
        "# elbow visualization\n",
        "inertiaVals = {}\n",
        "\n",
        "for k in range(1, 10):\n",
        "    kmeansK = KMeans(n_clusters=k, max_iter=1000).fit(X_train_scaled)\n",
        "    inertiaVals[k] = kmeansK.inertia_\n",
        "plt.figure()\n",
        "plt.plot(list(inertiaVals.keys()), list(inertiaVals.values()))\n",
        "plt.xlabel(\"Number of cluster\")\n",
        "plt.ylabel(\"Inertia\")\n",
        "plt.show()"
      ],
      "metadata": {
        "colab": {
          "base_uri": "https://localhost:8080/",
          "height": 465
        },
        "id": "3PfxJem14BgA",
        "outputId": "ced76214-0fc5-403a-eaeb-8ae8fe2cf232"
      },
      "execution_count": null,
      "outputs": [
        {
          "output_type": "display_data",
          "data": {
            "text/plain": [
              "<Figure size 640x480 with 1 Axes>"
            ],
            "image/png": "[encoded data removed]"
          },
          "metadata": {}
        }
      ]
    },
    {
      "cell_type": "markdown",
      "source": [
        "I've got some wobbly elbows here.... seems like 6 is probably the way to go on clustering for the original **scaled** data.\n",
        "\n",
        "Next I just want to see how it looks on unscaled..."
      ],
      "metadata": {
        "id": "K4rwJwMp_5ge"
      }
    },
    {
      "cell_type": "code",
      "source": [
        "ks = range(1, 10)\n",
        "inertias = []\n",
        "\n",
        "for k in ks:\n",
        "    # Create a KMeans instance with k clusters: model\n",
        "    model = KMeans(n_clusters=k)\n",
        "\n",
        "    # Fit model to samples\n",
        "    model.fit(X_train)\n",
        "\n",
        "    # Append the inertia to the list of inertias\n",
        "    inertias.append(model.inertia_)\n",
        "\n",
        "# Plot ks vs inertias\n",
        "plt.plot(ks, inertias, '-o')\n",
        "plt.xlabel('number of clusters, k')\n",
        "plt.ylabel('inertia')\n",
        "plt.xticks(ks)\n",
        "plt.show()"
      ],
      "metadata": {
        "colab": {
          "base_uri": "https://localhost:8080/",
          "height": 465
        },
        "id": "JeYoNbGG_3ZO",
        "outputId": "0ed61178-ad76-4342-f201-2ea3faa217ae"
      },
      "execution_count": null,
      "outputs": [
        {
          "output_type": "display_data",
          "data": {
            "text/plain": [
              "<Figure size 640x480 with 1 Axes>"
            ],
            "image/png": "[encoded data removed]"
          },
          "metadata": {}
        }
      ]
    },
    {
      "cell_type": "code",
      "source": [
        "# elbow visualization\n",
        "inertiaVals = {}\n",
        "\n",
        "for k in range(1, 10):\n",
        "    kmeansK = KMeans(n_clusters=k, max_iter=1000).fit(X_train)\n",
        "    inertiaVals[k] = kmeansK.inertia_\n",
        "plt.figure()\n",
        "plt.plot(list(inertiaVals.keys()), list(inertiaVals.values()))\n",
        "plt.xlabel(\"Number of cluster\")\n",
        "plt.ylabel(\"Inertia\")\n",
        "plt.show()"
      ],
      "metadata": {
        "colab": {
          "base_uri": "https://localhost:8080/",
          "height": 465
        },
        "id": "jXsWJ9keAJp8",
        "outputId": "773a3491-8df9-4b40-8524-02a0ae965290"
      },
      "execution_count": null,
      "outputs": [
        {
          "output_type": "display_data",
          "data": {
            "text/plain": [
              "<Figure size 640x480 with 1 Axes>"
            ],
            "image/png": "[encoded data removed]"
          },
          "metadata": {}
        }
      ]
    },
    {
      "cell_type": "markdown",
      "source": [
        "On the unscaled data it looks like three clusters is the way to go if I were using the unscaled data...."
      ],
      "metadata": {
        "id": "Wdz-TaRr4WdQ"
      }
    },
    {
      "cell_type": "markdown",
      "source": [
        "Next I'lll try doing in on the PCA scaled and unscaled..."
      ],
      "metadata": {
        "id": "J3CZow-SAoud"
      }
    },
    {
      "cell_type": "code",
      "source": [
        "# instantiate an instance of k-Means\n",
        "kmeans_pca = KMeans(n_clusters=4)\n",
        "kmeans_pca.fit(X_train_pca_scaled)\n",
        "\n",
        "# get assignments (labels)\n",
        "assignments_pca=kmeans_pca.labels_\n",
        "\n",
        "# plot a scatter matrix of the results\n",
        "mglearn.discrete_scatter(X_train_pca_scaled[:, 0], X_train_pca_scaled[:, 1], assignments_pca)\n",
        "plt.legend([\"Cluster 0\", \"Cluster 1\", \"Cluster 2\", \"Cluster 3\"], loc=\"best\")\n",
        "plt.xlabel(\"Feature 0\")\n",
        "plt.ylabel(\"Feature 1\")"
      ],
      "metadata": {
        "colab": {
          "base_uri": "https://localhost:8080/",
          "height": 466
        },
        "id": "lNG-BaBH4WB8",
        "outputId": "ec66b8e4-bdf0-4eb6-f1e2-d716786d5b3e"
      },
      "execution_count": null,
      "outputs": [
        {
          "output_type": "execute_result",
          "data": {
            "text/plain": [
              "Text(0, 0.5, 'Feature 1')"
            ]
          },
          "metadata": {},
          "execution_count": 67
        },
        {
          "output_type": "display_data",
          "data": {
            "text/plain": [
              "<Figure size 640x480 with 1 Axes>"
            ],
            "image/png": "[encoded data removed]"
          },
          "metadata": {}
        }
      ]
    },
    {
      "cell_type": "code",
      "source": [
        "# elbow visualization\n",
        "inertiaVals = {}\n",
        "\n",
        "for k in range(1, 10):\n",
        "    kmeansK = KMeans(n_clusters=k, max_iter=1000).fit(X_train_pca_scaled)\n",
        "    inertiaVals[k] = kmeansK.inertia_\n",
        "plt.figure()\n",
        "plt.plot(list(inertiaVals.keys()), list(inertiaVals.values()))\n",
        "plt.xlabel(\"Number of cluster\")\n",
        "plt.ylabel(\"Inertia\")\n",
        "plt.show()"
      ],
      "metadata": {
        "colab": {
          "base_uri": "https://localhost:8080/",
          "height": 465
        },
        "id": "f3DIHLVeBywO",
        "outputId": "96a625c5-abb1-4862-f4af-092ea80cc84f"
      },
      "execution_count": null,
      "outputs": [
        {
          "output_type": "display_data",
          "data": {
            "text/plain": [
              "<Figure size 640x480 with 1 Axes>"
            ],
            "image/png": "[encoded data removed]"
          },
          "metadata": {}
        }
      ]
    },
    {
      "cell_type": "markdown",
      "source": [
        "Again... I got something weird going on with these elbows..."
      ],
      "metadata": {
        "id": "WKsCg46yDdaa"
      }
    },
    {
      "cell_type": "code",
      "source": [
        "# instantiate an instance of k-Means\n",
        "kmeans_pca = KMeans(n_clusters=3)\n",
        "kmeans_pca.fit(X_train_pca_unscaled)\n",
        "\n",
        "# get assignments (labels)\n",
        "assignments_pca=kmeans_pca.labels_\n",
        "\n",
        "# plot a scatter matrix of the results\n",
        "mglearn.discrete_scatter(X_train_pca_unscaled[:, 0], X_train_pca_unscaled[:, 1], assignments_pca)\n",
        "plt.legend([\"Cluster 0\", \"Cluster 1\", \"Cluster 2\"], loc=\"best\")\n",
        "plt.xlabel(\"Feature 0\")\n",
        "plt.ylabel(\"Feature 1\")"
      ],
      "metadata": {
        "colab": {
          "base_uri": "https://localhost:8080/",
          "height": 466
        },
        "id": "cubLdDdRBLek",
        "outputId": "ba602e49-aba6-4968-a790-47f8d40f8703"
      },
      "execution_count": null,
      "outputs": [
        {
          "output_type": "execute_result",
          "data": {
            "text/plain": [
              "Text(0, 0.5, 'Feature 1')"
            ]
          },
          "metadata": {},
          "execution_count": 69
        },
        {
          "output_type": "display_data",
          "data": {
            "text/plain": [
              "<Figure size 640x480 with 1 Axes>"
            ],
            "image/png": "[encoded data removed]"
          },
          "metadata": {}
        }
      ]
    },
    {
      "cell_type": "code",
      "source": [
        "# elbow visualization\n",
        "inertiaVals = {}\n",
        "\n",
        "for k in range(1, 10):\n",
        "    kmeansK = KMeans(n_clusters=k, max_iter=1000).fit(X_train_pca_unscaled)\n",
        "    inertiaVals[k] = kmeansK.inertia_\n",
        "plt.figure()\n",
        "plt.plot(list(inertiaVals.keys()), list(inertiaVals.values()))\n",
        "plt.xlabel(\"Number of cluster\")\n",
        "plt.ylabel(\"Inertia\")\n",
        "plt.show()"
      ],
      "metadata": {
        "colab": {
          "base_uri": "https://localhost:8080/",
          "height": 465
        },
        "id": "iopV9i0gCCSD",
        "outputId": "3cb8cce2-2f5d-4751-c5c2-84def49d5f19"
      },
      "execution_count": null,
      "outputs": [
        {
          "output_type": "display_data",
          "data": {
            "text/plain": [
              "<Figure size 640x480 with 1 Axes>"
            ],
            "image/png": "[encoded data removed]"
          },
          "metadata": {}
        }
      ]
    },
    {
      "cell_type": "markdown",
      "source": [
        "On the PCA data, it looks like 3 clusters is the way to go."
      ],
      "metadata": {
        "id": "YgcaDrQdBnYl"
      }
    },
    {
      "cell_type": "markdown",
      "source": [
        "##### **Agglomerate/Hierarchical clustering**"
      ],
      "metadata": {
        "id": "O_zUp98XChY7"
      }
    },
    {
      "cell_type": "markdown",
      "source": [
        "**I could not get the following sections to run on my system RAM, even with premium GPUs. The code is there, but the results aren't loading.**\n",
        "\n",
        "**Overall the results in the above section and the following indicate that my chosen dataset does not lend itself well to clustering techniques.**"
      ],
      "metadata": {
        "id": "jaDuCk4dEoCo"
      }
    },
    {
      "cell_type": "markdown",
      "source": [
        "Starting with original **scaled** again."
      ],
      "metadata": {
        "id": "7n8wdPBWXI06"
      }
    },
    {
      "cell_type": "code",
      "source": [
        "from sklearn.cluster import AgglomerativeClustering"
      ],
      "metadata": {
        "id": "JgkcXYr4WbpI"
      },
      "execution_count": null,
      "outputs": []
    },
    {
      "cell_type": "code",
      "source": [
        "agg = AgglomerativeClustering(n_clusters=7)"
      ],
      "metadata": {
        "id": "kGh-OLV1WfTf"
      },
      "execution_count": null,
      "outputs": []
    },
    {
      "cell_type": "code",
      "source": [
        "assignment = agg.fit_predict(X_train_scaled)"
      ],
      "metadata": {
        "id": "PyFfgqhp-8g5"
      },
      "execution_count": null,
      "outputs": []
    },
    {
      "cell_type": "code",
      "source": [
        "mglearn.discrete_scatter(X_train_scaled[:, 0], X_train_scaled[:, 1], assignment)\n",
        "plt.legend([\"Cluster 0\", \"Cluster 1\", \"Cluster 2\", \"Cluster 3\"], loc=\"best\")\n",
        "plt.xlabel(\"Feature 0\")\n",
        "plt.ylabel(\"Feature 1\")"
      ],
      "metadata": {
        "id": "BWgAl36TWgzm"
      },
      "execution_count": null,
      "outputs": []
    },
    {
      "cell_type": "markdown",
      "source": [
        "Conducting the agglomerate/hierarchical clustering on **PCA scaled** data."
      ],
      "metadata": {
        "id": "plA1wGGLgXio"
      }
    },
    {
      "cell_type": "code",
      "source": [
        "aggPCA = AgglomerativeClustering(n_clusters=3)"
      ],
      "metadata": {
        "id": "1XiYmuuyfXul"
      },
      "execution_count": null,
      "outputs": []
    },
    {
      "cell_type": "code",
      "source": [
        "assignment = aggPCA.fit_predict(X_train_pca_scaled)"
      ],
      "metadata": {
        "id": "bRMhWdYwfkr9"
      },
      "execution_count": null,
      "outputs": []
    },
    {
      "cell_type": "code",
      "source": [
        "mglearn.discrete_scatter(X_train_pca_scaled[:, 0], X_train_pca_scaled[:, 1], assignment)\n",
        "plt.legend([\"Cluster 0\", \"Cluster 1\", \"Cluster 2\"], loc=\"best\")\n",
        "plt.xlabel(\"Feature 0\")\n",
        "plt.ylabel(\"Feature 1\")"
      ],
      "metadata": {
        "id": "bvGgZ7tRfjYi"
      },
      "execution_count": null,
      "outputs": []
    },
    {
      "cell_type": "markdown",
      "source": [
        "##### **DBSCAN**"
      ],
      "metadata": {
        "id": "uyX2Pu_WgpI0"
      }
    },
    {
      "cell_type": "markdown",
      "source": [
        "Starting with original **scaled** again."
      ],
      "metadata": {
        "id": "QIO08p3Jg-vx"
      }
    },
    {
      "cell_type": "code",
      "source": [
        "from sklearn.cluster import DBSCAN"
      ],
      "metadata": {
        "id": "VY6jtDMI7t6F"
      },
      "execution_count": null,
      "outputs": []
    },
    {
      "cell_type": "code",
      "source": [
        "dbscan = DBSCAN(min_samples=3,eps=0.5)"
      ],
      "metadata": {
        "id": "Fz085IdC7xMD"
      },
      "execution_count": null,
      "outputs": []
    },
    {
      "cell_type": "code",
      "source": [
        "clusters = dbscan.fit_predict(X_train_scaled)"
      ],
      "metadata": {
        "id": "eCWvR5Ye8RZK"
      },
      "execution_count": null,
      "outputs": []
    },
    {
      "cell_type": "code",
      "source": [
        "# plot the cluster assignments\n",
        "mglearn.discrete_scatter(X_train_scaled[:, 0], X_train_scaled[:, 1], clusters)\n",
        "plt.legend([\"Cluster 0\", \"Cluster 1\", \"Cluster 2\", \"Cluster 3\"], loc=\"best\")\n",
        "plt.xlabel(\"Feature 0\")\n",
        "plt.ylabel(\"Feature 1\")"
      ],
      "metadata": {
        "id": "S3KNOn3u7zXf"
      },
      "execution_count": null,
      "outputs": []
    },
    {
      "cell_type": "markdown",
      "source": [
        "Moving on to **PCA scaled** data."
      ],
      "metadata": {
        "id": "f-eJswO_BE6U"
      }
    },
    {
      "cell_type": "code",
      "source": [
        "dbscanPCA = DBSCAN(min_samples=3,eps=0.5)\n",
        "clustersPCA = dbscanPCA.fit_predict(X_train_pca_scaled)"
      ],
      "metadata": {
        "id": "B2XXYln08BcU"
      },
      "execution_count": null,
      "outputs": []
    },
    {
      "cell_type": "code",
      "source": [
        "# plot the cluster assignments\n",
        "mglearn.discrete_scatter(X_train_pca_scaled[:, 0], X_train_pca_scaled[:, 1], clusters)\n",
        "plt.legend([\"Cluster 0\", \"Cluster 1\", \"Cluster 2\", \"Cluster 3\"], loc=\"best\")\n",
        "plt.xlabel(\"Feature 0\")\n",
        "plt.ylabel(\"Feature 1\")"
      ],
      "metadata": {
        "id": "bY3T_MQl8Dp2"
      },
      "execution_count": null,
      "outputs": []
    },
    {
      "cell_type": "markdown",
      "source": [
        "### Part B"
      ],
      "metadata": {
        "id": "r-aSwzwi80YS"
      }
    },
    {
      "cell_type": "markdown",
      "source": [
        "**ARI and Silhouette Coefficient for all six of our combinations (three types of clustering, before and after PCA)**"
      ],
      "metadata": {
        "id": "mkuLhxbCAYyo"
      }
    },
    {
      "cell_type": "markdown",
      "source": [
        "##### **ARI**\n",
        "\n",
        "Working with original, scaled data"
      ],
      "metadata": {
        "id": "6Yz0k9RrAegt"
      }
    },
    {
      "cell_type": "code",
      "source": [
        "from sklearn.metrics.cluster import adjusted_rand_score"
      ],
      "metadata": {
        "id": "3DXBK1ePAyBk"
      },
      "execution_count": null,
      "outputs": []
    },
    {
      "cell_type": "code",
      "source": [
        "fig, axes = plt.subplots(1, 4, figsize=(15, 3),\n",
        "                         subplot_kw={'xticks': (), 'yticks': ()})\n",
        "\n",
        "# make a list of algorithms to use\n",
        "algorithms = [KMeans(n_clusters=3), AgglomerativeClustering(n_clusters=3), DBSCAN(min_samples=3)]\n",
        "\n",
        "# create a random cluster assignment for reference\n",
        "random_state = np.random.RandomState(seed=0)\n",
        "random_clusters = random_state.randint(low=0, high=2, size=len(X_train_scaled))\n",
        "\n",
        "# plot random assignment\n",
        "axes[0].scatter(X_train_scaled[:, 0], X_train_scaled[:, 1], c=random_clusters,\n",
        "                cmap=mglearn.cm3, s=60)\n",
        "axes[0].set_title(\"Random assignment - ARI: {:.2f}\".format(\n",
        "        adjusted_rand_score(y_train, random_clusters)))\n",
        "\n",
        "for ax, algorithm in zip(axes[1:], algorithms):\n",
        "    # plot the cluster assignments and cluster centers\n",
        "    clusters = algorithm.fit_predict(X_train_scaled)\n",
        "    ax.scatter(X_train_scaled[:, 0], X_train_scaled[:, 1], c=clusters,\n",
        "               cmap=mglearn.cm3, s=60)\n",
        "    ax.set_title(\"{} - ARI: {:.2f}\".format(algorithm.__class__.__name__,\n",
        "                                           adjusted_rand_score(y_train, clusters)))"
      ],
      "metadata": {
        "id": "aZ7BQPZKA21-"
      },
      "execution_count": null,
      "outputs": []
    },
    {
      "cell_type": "markdown",
      "source": [
        "Working with originl PCA scaled data"
      ],
      "metadata": {
        "id": "FnUXokzuA7gB"
      }
    },
    {
      "cell_type": "code",
      "source": [
        "fig, axes = plt.subplots(1, 4, figsize=(15, 3),\n",
        "                         subplot_kw={'xticks': (), 'yticks': ()})\n",
        "\n",
        "# make a list of algorithms to use\n",
        "algorithms = [KMeans(n_clusters=3), AgglomerativeClustering(n_clusters=3), DBSCAN(min_samples=3)]\n",
        "\n",
        "# create a random cluster assignment for reference\n",
        "random_state = np.random.RandomState(seed=0)\n",
        "random_clusters = random_state.randint(low=0, high=2, size=len(X_train_pca_scaled))\n",
        "\n",
        "# plot random assignment\n",
        "axes[0].scatter(X_train_pca_scaled[:, 0], X_train_pca_scaled[:, 1], c=random_clusters,\n",
        "                cmap=mglearn.cm3, s=60)\n",
        "axes[0].set_title(\"Random assignment - ARI: {:.2f}\".format(\n",
        "        adjusted_rand_score(y_train, random_clusters)))\n",
        "\n",
        "for ax, algorithm in zip(axes[1:], algorithms):\n",
        "    # plot the cluster assignments and cluster centers\n",
        "    clusters = algorithm.fit_predict(X_train_pca_scaled)\n",
        "    ax.scatter(X_train_pca_scaled[:, 0], X_train_pca_scaled[:, 1], c=clusters,\n",
        "               cmap=mglearn.cm3, s=60)\n",
        "    ax.set_title(\"{} - ARI: {:.2f}\".format(algorithm.__class__.__name__,\n",
        "                                           adjusted_rand_score(y_train, clusters)))"
      ],
      "metadata": {
        "id": "8zJjnBRqA68o"
      },
      "execution_count": null,
      "outputs": []
    },
    {
      "cell_type": "markdown",
      "source": [
        "##### **Silhouette Coefficient**\n",
        "\n",
        "Working with original, scaled data..."
      ],
      "metadata": {
        "id": "xSZwKZlTD4vc"
      }
    },
    {
      "cell_type": "code",
      "source": [
        "from sklearn.metrics.cluster import silhouette_score\n",
        "\n",
        "fig, axes = plt.subplots(1, 4, figsize=(15, 3),\n",
        "                         subplot_kw={'xticks': (), 'yticks': ()})\n",
        "\n",
        "# create a random cluster assignment for reference\n",
        "random_state = np.random.RandomState(seed=0)\n",
        "random_clusters = random_state.randint(low=0, high=2, size=len(X_train_scaled))\n",
        "\n",
        "# plot random assignment\n",
        "axes[0].scatter(X_train_scaled[:, 0], X_train_scaled[:, 1], c=random_clusters,\n",
        "                cmap=mglearn.cm3, s=60)\n",
        "axes[0].set_title(\"Random assignment: {:.2f}\".format(\n",
        "    silhouette_score(X_train_scaled, random_clusters)))\n",
        "\n",
        "algorithms = [KMeans(n_clusters=3), AgglomerativeClustering(n_clusters=3), DBSCAN(min_samples=3)]\n",
        "\n",
        "for ax, algorithm in zip(axes[1:], algorithms):\n",
        "    clusters = algorithm.fit_predict(X_train_scaled)\n",
        "    # plot the cluster assignments and cluster centers\n",
        "    ax.scatter(X_train_scaled[:, 0], X_train_scaled[:, 1], c=clusters, cmap=mglearn.cm3,\n",
        "               s=60)\n",
        "    ax.set_title(\"{} : {:.2f}\".format(algorithm.__class__.__name__,\n",
        "                                      silhouette_score(X_train_scaled, clusters)))"
      ],
      "metadata": {
        "id": "3ttqKoF7D-sO"
      },
      "execution_count": null,
      "outputs": []
    },
    {
      "cell_type": "markdown",
      "source": [
        "Working with PCA scaled data..."
      ],
      "metadata": {
        "id": "7E9K0bbtEK6k"
      }
    },
    {
      "cell_type": "code",
      "source": [
        "fig, axes = plt.subplots(1, 4, figsize=(15, 3),\n",
        "                         subplot_kw={'xticks': (), 'yticks': ()})\n",
        "\n",
        "# create a random cluster assignment for reference\n",
        "random_state = np.random.RandomState(seed=0)\n",
        "random_clusters = random_state.randint(low=0, high=2, size=len(X_train_pca_scaled))\n",
        "\n",
        "# plot random assignment\n",
        "axes[0].scatter(X_train_pca_scaled[:, 0], X_train_pca_scaled[:, 1], c=random_clusters,\n",
        "                cmap=mglearn.cm3, s=60)\n",
        "axes[0].set_title(\"Random assignment: {:.2f}\".format(\n",
        "    silhouette_score(X_train_pca_scaled, random_clusters)))\n",
        "\n",
        "algorithms = [KMeans(n_clusters=3), AgglomerativeClustering(n_clusters=3), DBSCAN(min_samples=3)]\n",
        "\n",
        "for ax, algorithm in zip(axes[1:], algorithms):\n",
        "    clusters = algorithm.fit_predict(X_train_pca_scaled)\n",
        "    # plot the cluster assignments and cluster centers\n",
        "    ax.scatter(X_train_pca_scaled[:, 0], X_train_pca_scaled[:, 1], c=clusters, cmap=mglearn.cm3,\n",
        "               s=60)\n",
        "    ax.set_title(\"{} : {:.2f}\".format(algorithm.__class__.__name__,\n",
        "                                      silhouette_score(X_train_pca_scaled, clusters)))"
      ],
      "metadata": {
        "id": "ztW1cRmLEQbM"
      },
      "execution_count": null,
      "outputs": []
    }
  ]
}